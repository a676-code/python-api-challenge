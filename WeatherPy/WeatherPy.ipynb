{
 "cells": [
  {
   "cell_type": "markdown",
   "metadata": {},
   "source": [
    "# WeatherPy\n",
    "\n",
    "---\n",
    "\n",
    "## Starter Code to Generate Random Geographic Coordinates and a List of Cities"
   ]
  },
  {
   "cell_type": "code",
   "execution_count": 61,
   "metadata": {
    "scrolled": true
   },
   "outputs": [],
   "source": [
    "# Dependencies and Setup\n",
    "import matplotlib.pyplot as plt\n",
    "import pandas as pd\n",
    "import numpy as np\n",
    "import requests\n",
    "import time\n",
    "from scipy.stats import linregress\n",
    "import os\n",
    "\n",
    "# Impor the OpenWeatherMap API key\n",
    "from api_keys import weather_api_key\n",
    "\n",
    "# Import citipy to determine the cities based on latitude and longitude\n",
    "from citipy import citipy"
   ]
  },
  {
   "cell_type": "markdown",
   "metadata": {},
   "source": [
    "### Generate the Cities List by Using the `citipy` Library"
   ]
  },
  {
   "cell_type": "code",
   "execution_count": 62,
   "metadata": {},
   "outputs": [
    {
     "name": "stdout",
     "output_type": "stream",
     "text": [
      "Number of cities in the list: 618\n"
     ]
    }
   ],
   "source": [
    "# Empty list for holding the latitude and longitude combinations\n",
    "lat_lngs = []\n",
    "\n",
    "# Empty list for holding the cities names\n",
    "cities = []\n",
    "\n",
    "# Range of latitudes and longitudes\n",
    "lat_range = (-90, 90)\n",
    "lng_range = (-180, 180)\n",
    "\n",
    "# Create a set of random lat and lng combinations\n",
    "lats = np.random.uniform(lat_range[0], lat_range[1], size=1500)\n",
    "lngs = np.random.uniform(lng_range[0], lng_range[1], size=1500)\n",
    "lat_lngs = zip(lats, lngs)\n",
    "\n",
    "# Identify nearest city for each lat, lng combination\n",
    "for lat_lng in lat_lngs:\n",
    "    city = citipy.nearest_city(lat_lng[0], lat_lng[1]).city_name\n",
    "    \n",
    "    # If the city is unique, then add it to a our cities list\n",
    "    if city not in cities:\n",
    "        cities.append(city)\n",
    "\n",
    "# Print the city count to confirm sufficient count\n",
    "print(f\"Number of cities in the list: {len(cities)}\")"
   ]
  },
  {
   "cell_type": "markdown",
   "metadata": {},
   "source": [
    "---"
   ]
  },
  {
   "cell_type": "markdown",
   "metadata": {},
   "source": [
    "## Requirement 1: Create Plots to Showcase the Relationship Between Weather Variables and Latitude\n",
    "\n",
    "### Use the OpenWeatherMap API to retrieve weather data from the cities list generated in the started code"
   ]
  },
  {
   "cell_type": "code",
   "execution_count": 92,
   "metadata": {},
   "outputs": [
    {
     "name": "stdout",
     "output_type": "stream",
     "text": [
      "Beginning Data Retrieval     \n",
      "-----------------------------\n",
      "Processing Record 1 of Set 1 | nizhneyansk\n",
      "'coord'\n",
      "City not found. Skipping...\n",
      "Processing Record 2 of Set 1 | codrington\n",
      "Processing Record 3 of Set 1 | roald\n",
      "Processing Record 4 of Set 1 | mahebourg\n",
      "Processing Record 5 of Set 1 | jamestown\n",
      "Processing Record 6 of Set 1 | carutapera\n",
      "Processing Record 7 of Set 1 | rawson\n",
      "Processing Record 8 of Set 1 | labuhan\n",
      "Processing Record 9 of Set 1 | tumannyy\n",
      "'coord'\n",
      "City not found. Skipping...\n",
      "Processing Record 10 of Set 1 | salym\n",
      "Processing Record 11 of Set 1 | ushuaia\n",
      "Processing Record 12 of Set 1 | butaritari\n",
      "Processing Record 13 of Set 1 | creel\n",
      "Processing Record 14 of Set 1 | mar del plata\n",
      "Processing Record 15 of Set 1 | pangnirtung\n",
      "Processing Record 16 of Set 1 | paciran\n",
      "Processing Record 17 of Set 1 | ballybofey\n",
      "Processing Record 18 of Set 1 | ponta do sol\n",
      "Processing Record 19 of Set 1 | komsomolskiy\n",
      "Processing Record 20 of Set 1 | bluff\n",
      "Processing Record 21 of Set 1 | touros\n",
      "Processing Record 22 of Set 1 | hobart\n",
      "Processing Record 23 of Set 1 | saleaula\n",
      "'coord'\n",
      "City not found. Skipping...\n",
      "Processing Record 24 of Set 1 | puerto ayora\n",
      "Processing Record 25 of Set 1 | severo-kurilsk\n",
      "Processing Record 26 of Set 1 | smithers\n",
      "Processing Record 27 of Set 1 | punta arenas\n",
      "Processing Record 28 of Set 1 | sioux lookout\n",
      "Processing Record 29 of Set 1 | kapaa\n",
      "Processing Record 30 of Set 1 | busselton\n",
      "Processing Record 31 of Set 1 | barrow\n",
      "Processing Record 32 of Set 1 | bengkulu\n",
      "Processing Record 33 of Set 1 | vaini\n",
      "Processing Record 34 of Set 1 | berlevag\n",
      "Processing Record 35 of Set 1 | kasempa\n",
      "Processing Record 36 of Set 1 | taolanaro\n",
      "'coord'\n",
      "City not found. Skipping...\n",
      "Processing Record 37 of Set 1 | carnarvon\n",
      "Processing Record 38 of Set 1 | rikitea\n",
      "Processing Record 39 of Set 1 | noyabrsk\n",
      "Processing Record 40 of Set 1 | yellowknife\n",
      "Processing Record 41 of Set 1 | banda aceh\n",
      "Processing Record 42 of Set 1 | agirish\n",
      "Processing Record 43 of Set 1 | georgetown\n",
      "Processing Record 44 of Set 1 | provideniya\n",
      "Processing Record 45 of Set 1 | tiksi\n",
      "Processing Record 46 of Set 1 | lagoa\n",
      "Processing Record 47 of Set 1 | coihaique\n",
      "Processing Record 48 of Set 1 | narsaq\n",
      "Processing Record 49 of Set 1 | pevek\n",
      "Processing Record 50 of Set 1 | albany\n",
      "Processing Record 0 of Set 2 | weihe\n",
      "Processing Record 1 of Set 2 | attawapiskat\n",
      "'coord'\n",
      "City not found. Skipping...\n",
      "Processing Record 2 of Set 2 | bredasdorp\n",
      "Processing Record 3 of Set 2 | verkhnevilyuysk\n",
      "Processing Record 4 of Set 2 | puerto escondido\n",
      "Processing Record 5 of Set 2 | ngunguru\n",
      "Processing Record 6 of Set 2 | krasnoarmeysk\n",
      "Processing Record 7 of Set 2 | coquimbo\n",
      "Processing Record 8 of Set 2 | mataura\n",
      "Processing Record 9 of Set 2 | flinders\n",
      "Processing Record 10 of Set 2 | lavrentiya\n",
      "Processing Record 11 of Set 2 | pisco\n",
      "Processing Record 12 of Set 2 | betsiamites\n",
      "Processing Record 13 of Set 2 | pestyaki\n",
      "Processing Record 14 of Set 2 | dedougou\n",
      "Processing Record 15 of Set 2 | sept-iles\n",
      "Processing Record 16 of Set 2 | roebourne\n",
      "Processing Record 17 of Set 2 | necochea\n",
      "Processing Record 18 of Set 2 | lebu\n",
      "Processing Record 19 of Set 2 | ribeira grande\n",
      "Processing Record 20 of Set 2 | chandler\n",
      "Processing Record 21 of Set 2 | saint-philippe\n",
      "Processing Record 22 of Set 2 | sentyabrskiy\n",
      "'coord'\n",
      "City not found. Skipping...\n",
      "Processing Record 23 of Set 2 | lomza\n",
      "Processing Record 24 of Set 2 | hambantota\n",
      "Processing Record 25 of Set 2 | bubaque\n",
      "Processing Record 26 of Set 2 | karakendzha\n",
      "'coord'\n",
      "City not found. Skipping...\n",
      "Processing Record 27 of Set 2 | chokurdakh\n",
      "Processing Record 28 of Set 2 | amderma\n",
      "'coord'\n",
      "City not found. Skipping...\n",
      "Processing Record 29 of Set 2 | kautokeino\n",
      "Processing Record 30 of Set 2 | salalah\n",
      "Processing Record 31 of Set 2 | carberry\n",
      "Processing Record 32 of Set 2 | hilo\n",
      "Processing Record 33 of Set 2 | atuona\n",
      "Processing Record 34 of Set 2 | ahipara\n",
      "Processing Record 35 of Set 2 | ancud\n",
      "Processing Record 36 of Set 2 | chicama\n",
      "Processing Record 37 of Set 2 | lolua\n",
      "'coord'\n",
      "City not found. Skipping...\n",
      "Processing Record 38 of Set 2 | glossa\n",
      "Processing Record 39 of Set 2 | illoqqortoormiut\n",
      "'coord'\n",
      "City not found. Skipping...\n",
      "Processing Record 40 of Set 2 | georgiyevka\n",
      "Processing Record 41 of Set 2 | hermanus\n",
      "Processing Record 42 of Set 2 | marsa matruh\n",
      "Processing Record 43 of Set 2 | tabiauea\n",
      "'coord'\n",
      "City not found. Skipping...\n",
      "Processing Record 44 of Set 2 | sao filipe\n",
      "Processing Record 45 of Set 2 | maxixe\n",
      "Processing Record 46 of Set 2 | norman wells\n",
      "Processing Record 47 of Set 2 | khatanga\n",
      "Processing Record 48 of Set 2 | kamaishi\n",
      "Processing Record 49 of Set 2 | port alfred\n",
      "Processing Record 0 of Set 3 | marrakesh\n",
      "Processing Record 1 of Set 3 | nikolskoye\n",
      "Processing Record 2 of Set 3 | dongzhen\n",
      "Processing Record 3 of Set 3 | atar\n",
      "Processing Record 4 of Set 3 | lata\n",
      "Processing Record 5 of Set 3 | hithadhoo\n",
      "Processing Record 6 of Set 3 | dingle\n",
      "Processing Record 7 of Set 3 | avarua\n",
      "Processing Record 8 of Set 3 | kamenka\n",
      "Processing Record 9 of Set 3 | shetpe\n",
      "Processing Record 10 of Set 3 | new norfolk\n",
      "Processing Record 11 of Set 3 | puruliya\n",
      "Processing Record 12 of Set 3 | cape town\n",
      "Processing Record 13 of Set 3 | ascension\n",
      "Processing Record 14 of Set 3 | tuatapere\n",
      "Processing Record 15 of Set 3 | hamilton\n",
      "Processing Record 16 of Set 3 | fortuna\n",
      "Processing Record 17 of Set 3 | kyabe\n",
      "Processing Record 18 of Set 3 | ketchikan\n",
      "Processing Record 19 of Set 3 | saskylakh\n",
      "Processing Record 20 of Set 3 | saldanha\n",
      "Processing Record 21 of Set 3 | ostrovnoy\n",
      "Processing Record 22 of Set 3 | longyearbyen\n",
      "Processing Record 23 of Set 3 | kaitangata\n",
      "Processing Record 24 of Set 3 | calatayud\n",
      "Processing Record 25 of Set 3 | yar-sale\n",
      "Processing Record 26 of Set 3 | magdalena\n",
      "Processing Record 27 of Set 3 | riwaka\n",
      "Processing Record 28 of Set 3 | kudahuvadhoo\n",
      "Processing Record 29 of Set 3 | cabo san lucas\n",
      "Processing Record 30 of Set 3 | portland\n",
      "Processing Record 31 of Set 3 | port lincoln\n",
      "Processing Record 32 of Set 3 | east london\n",
      "Processing Record 33 of Set 3 | ouadda\n",
      "Processing Record 34 of Set 3 | barcelos\n",
      "Processing Record 35 of Set 3 | belushya guba\n",
      "'coord'\n",
      "City not found. Skipping...\n",
      "Processing Record 36 of Set 3 | makakilo city\n",
      "Processing Record 37 of Set 3 | thompson\n",
      "Processing Record 38 of Set 3 | barentsburg\n",
      "'coord'\n",
      "City not found. Skipping...\n",
      "Processing Record 39 of Set 3 | mawlaik\n",
      "Processing Record 40 of Set 3 | upernavik\n",
      "Processing Record 41 of Set 3 | ye\n",
      "'coord'\n",
      "City not found. Skipping...\n",
      "Processing Record 42 of Set 3 | kawalu\n",
      "Processing Record 43 of Set 3 | karratha\n",
      "Processing Record 44 of Set 3 | kununurra\n",
      "Processing Record 45 of Set 3 | sao joao da barra\n",
      "Processing Record 46 of Set 3 | klaksvik\n",
      "Processing Record 47 of Set 3 | chabahar\n",
      "Processing Record 48 of Set 3 | loandjili\n",
      "Processing Record 49 of Set 3 | xinye\n",
      "Processing Record 0 of Set 4 | asau\n",
      "Processing Record 1 of Set 4 | beeville\n",
      "Processing Record 2 of Set 4 | fonte boa\n",
      "Processing Record 3 of Set 4 | castro\n",
      "Processing Record 4 of Set 4 | grand river south east\n",
      "'coord'\n",
      "City not found. Skipping...\n",
      "Processing Record 5 of Set 4 | tolaga bay\n",
      "Processing Record 6 of Set 4 | auray\n",
      "Processing Record 7 of Set 4 | qaanaaq\n",
      "Processing Record 8 of Set 4 | carmen\n",
      "Processing Record 9 of Set 4 | vostok\n",
      "Processing Record 10 of Set 4 | vicuna\n",
      "Processing Record 11 of Set 4 | anchorage\n",
      "Processing Record 12 of Set 4 | quelimane\n",
      "Processing Record 13 of Set 4 | tual\n",
      "Processing Record 14 of Set 4 | vestmannaeyjar\n",
      "Processing Record 15 of Set 4 | bethel\n",
      "Processing Record 16 of Set 4 | airai\n",
      "Processing Record 17 of Set 4 | waipawa\n",
      "Processing Record 18 of Set 4 | buraydah\n",
      "Processing Record 19 of Set 4 | krasnotorka\n",
      "Processing Record 20 of Set 4 | slonim\n",
      "Processing Record 21 of Set 4 | chifeng\n",
      "Processing Record 22 of Set 4 | tecolutla\n",
      "Processing Record 23 of Set 4 | mehamn\n",
      "Processing Record 24 of Set 4 | waingapu\n",
      "Processing Record 25 of Set 4 | torbay\n",
      "Processing Record 26 of Set 4 | acapulco\n",
      "Processing Record 27 of Set 4 | mount isa\n",
      "Processing Record 28 of Set 4 | kuusamo\n",
      "Processing Record 29 of Set 4 | college\n",
      "Processing Record 30 of Set 4 | kruisfontein\n",
      "Processing Record 31 of Set 4 | souillac\n",
      "Processing Record 32 of Set 4 | turukhansk\n",
      "Processing Record 33 of Set 4 | inhambane\n",
      "Processing Record 34 of Set 4 | egvekinot\n"
     ]
    },
    {
     "name": "stdout",
     "output_type": "stream",
     "text": [
      "Processing Record 35 of Set 4 | bagnols-sur-ceze\n",
      "Processing Record 36 of Set 4 | havre-saint-pierre\n",
      "Processing Record 37 of Set 4 | nishihara\n",
      "Processing Record 38 of Set 4 | arraial do cabo\n",
      "Processing Record 39 of Set 4 | faanui\n",
      "Processing Record 40 of Set 4 | kavieng\n",
      "Processing Record 41 of Set 4 | maun\n",
      "Processing Record 42 of Set 4 | taburi\n",
      "'coord'\n",
      "City not found. Skipping...\n",
      "Processing Record 43 of Set 4 | golden\n",
      "Processing Record 44 of Set 4 | luderitz\n",
      "Processing Record 45 of Set 4 | dunedin\n",
      "Processing Record 46 of Set 4 | san cristobal\n",
      "Processing Record 47 of Set 4 | broken hill\n",
      "Processing Record 48 of Set 4 | meulaboh\n",
      "Processing Record 49 of Set 4 | kulhudhuffushi\n",
      "Processing Record 0 of Set 5 | saint-augustin\n",
      "Processing Record 1 of Set 5 | kota belud\n",
      "Processing Record 2 of Set 5 | aklavik\n",
      "Processing Record 3 of Set 5 | talnakh\n",
      "Processing Record 4 of Set 5 | lompoc\n",
      "Processing Record 5 of Set 5 | port blair\n",
      "Processing Record 6 of Set 5 | progreso\n",
      "Processing Record 7 of Set 5 | oktyabrskiy\n",
      "Processing Record 8 of Set 5 | langenburg\n",
      "Processing Record 9 of Set 5 | yinchuan\n",
      "Processing Record 10 of Set 5 | oranjemund\n",
      "Processing Record 11 of Set 5 | saint-francois\n",
      "Processing Record 12 of Set 5 | huarmey\n",
      "Processing Record 13 of Set 5 | esperance\n",
      "Processing Record 14 of Set 5 | terrace bay\n",
      "Processing Record 15 of Set 5 | soe\n",
      "Processing Record 16 of Set 5 | buenos aires\n",
      "Processing Record 17 of Set 5 | bilibino\n",
      "Processing Record 18 of Set 5 | san jeronimo\n",
      "Processing Record 19 of Set 5 | surgut\n",
      "Processing Record 20 of Set 5 | posse\n",
      "Processing Record 21 of Set 5 | naryan-mar\n",
      "Processing Record 22 of Set 5 | coro\n",
      "Processing Record 23 of Set 5 | eyl\n",
      "Processing Record 24 of Set 5 | rosetown\n",
      "Processing Record 25 of Set 5 | charlestown\n",
      "Processing Record 26 of Set 5 | biltine\n",
      "Processing Record 27 of Set 5 | mayo\n",
      "Processing Record 28 of Set 5 | kavaratti\n",
      "Processing Record 29 of Set 5 | hofn\n",
      "Processing Record 30 of Set 5 | ugoofaaru\n",
      "Processing Record 31 of Set 5 | krasnoselkup\n",
      "Processing Record 32 of Set 5 | damaturu\n",
      "Processing Record 33 of Set 5 | meyungs\n",
      "'coord'\n",
      "City not found. Skipping...\n",
      "Processing Record 34 of Set 5 | bathsheba\n",
      "Processing Record 35 of Set 5 | hasaki\n",
      "Processing Record 36 of Set 5 | kazalinsk\n",
      "'coord'\n",
      "City not found. Skipping...\n",
      "Processing Record 37 of Set 5 | sorvag\n",
      "'coord'\n",
      "City not found. Skipping...\n",
      "Processing Record 38 of Set 5 | shahrud\n",
      "Processing Record 39 of Set 5 | timra\n",
      "Processing Record 40 of Set 5 | ouesso\n",
      "Processing Record 41 of Set 5 | kushmurun\n",
      "Processing Record 42 of Set 5 | kambove\n",
      "Processing Record 43 of Set 5 | alofi\n",
      "Processing Record 44 of Set 5 | vytegra\n",
      "Processing Record 45 of Set 5 | aginskoye\n",
      "Processing Record 46 of Set 5 | iqaluit\n",
      "Processing Record 47 of Set 5 | lorengau\n",
      "Processing Record 48 of Set 5 | tubinskiy\n",
      "Processing Record 49 of Set 5 | rena\n",
      "Processing Record 0 of Set 6 | la serena\n",
      "Processing Record 1 of Set 6 | penzance\n",
      "Processing Record 2 of Set 6 | monterey\n",
      "Processing Record 3 of Set 6 | victoria\n",
      "Processing Record 4 of Set 6 | sur\n",
      "Processing Record 5 of Set 6 | manama\n",
      "Processing Record 6 of Set 6 | lodja\n",
      "Processing Record 7 of Set 6 | port elizabeth\n",
      "Processing Record 8 of Set 6 | hecun\n",
      "Processing Record 9 of Set 6 | puri\n",
      "Processing Record 10 of Set 6 | birao\n",
      "Processing Record 11 of Set 6 | kinwat\n",
      "Processing Record 12 of Set 6 | evensk\n",
      "Processing Record 13 of Set 6 | voyvozh\n",
      "Processing Record 14 of Set 6 | bambous virieux\n",
      "Processing Record 15 of Set 6 | westport\n",
      "Processing Record 16 of Set 6 | south sioux city\n",
      "Processing Record 17 of Set 6 | nisia floresta\n",
      "Processing Record 18 of Set 6 | oyem\n",
      "Processing Record 19 of Set 6 | whitewater\n",
      "Processing Record 20 of Set 6 | matara\n",
      "Processing Record 21 of Set 6 | shebunino\n",
      "Processing Record 22 of Set 6 | umzimvubu\n",
      "'coord'\n",
      "City not found. Skipping...\n",
      "Processing Record 23 of Set 6 | veraval\n",
      "Processing Record 24 of Set 6 | hualmay\n",
      "Processing Record 25 of Set 6 | shimoda\n",
      "Processing Record 26 of Set 6 | manaure\n",
      "Processing Record 27 of Set 6 | erenhot\n",
      "Processing Record 28 of Set 6 | belmonte\n",
      "Processing Record 29 of Set 6 | pagudpud\n",
      "Processing Record 30 of Set 6 | olenegorsk\n",
      "Processing Record 31 of Set 6 | geraldton\n",
      "Processing Record 32 of Set 6 | longlac\n",
      "'coord'\n",
      "City not found. Skipping...\n",
      "Processing Record 33 of Set 6 | kemijarvi\n",
      "Processing Record 34 of Set 6 | riyadh\n",
      "Processing Record 35 of Set 6 | dikson\n",
      "Processing Record 36 of Set 6 | borger\n",
      "Processing Record 37 of Set 6 | bonavista\n",
      "Processing Record 38 of Set 6 | vila velha\n",
      "Processing Record 39 of Set 6 | vazante\n",
      "Processing Record 40 of Set 6 | lucea\n",
      "Processing Record 41 of Set 6 | vyborg\n",
      "Processing Record 42 of Set 6 | cayenne\n",
      "Processing Record 43 of Set 6 | mugur-aksy\n",
      "Processing Record 44 of Set 6 | constitucion\n",
      "Processing Record 45 of Set 6 | san patricio\n",
      "Processing Record 46 of Set 6 | sambava\n",
      "Processing Record 47 of Set 6 | kodiak\n",
      "Processing Record 48 of Set 6 | floresta\n",
      "Processing Record 49 of Set 6 | hihifo\n",
      "'coord'\n",
      "City not found. Skipping...\n",
      "Processing Record 0 of Set 7 | tuktoyaktuk\n",
      "Processing Record 1 of Set 7 | trelew\n",
      "Processing Record 2 of Set 7 | hirara\n",
      "Processing Record 3 of Set 7 | san ignacio\n",
      "Processing Record 4 of Set 7 | leningradskiy\n",
      "Processing Record 5 of Set 7 | grand centre\n",
      "'coord'\n",
      "City not found. Skipping...\n",
      "Processing Record 6 of Set 7 | richards bay\n",
      "Processing Record 7 of Set 7 | senmonorom\n",
      "'coord'\n",
      "City not found. Skipping...\n",
      "Processing Record 8 of Set 7 | orlik\n",
      "Processing Record 9 of Set 7 | yulara\n",
      "Processing Record 10 of Set 7 | umm ruwabah\n",
      "'coord'\n",
      "City not found. Skipping...\n",
      "Processing Record 11 of Set 7 | buala\n",
      "Processing Record 12 of Set 7 | praia da vitoria\n",
      "Processing Record 13 of Set 7 | paamiut\n",
      "Processing Record 14 of Set 7 | bacolod\n",
      "Processing Record 15 of Set 7 | kaeo\n",
      "Processing Record 16 of Set 7 | marcona\n",
      "'coord'\n",
      "City not found. Skipping...\n",
      "Processing Record 17 of Set 7 | mao\n",
      "Processing Record 18 of Set 7 | davila\n",
      "Processing Record 19 of Set 7 | porto novo\n",
      "Processing Record 20 of Set 7 | slyudyanka\n",
      "Processing Record 21 of Set 7 | shingu\n",
      "Processing Record 22 of Set 7 | pandan\n",
      "Processing Record 23 of Set 7 | basco\n",
      "Processing Record 24 of Set 7 | zhigansk\n",
      "Processing Record 25 of Set 7 | butembo\n",
      "Processing Record 26 of Set 7 | puerto lempira\n",
      "Processing Record 27 of Set 7 | cap malheureux\n",
      "Processing Record 28 of Set 7 | kuche\n",
      "'coord'\n",
      "City not found. Skipping...\n",
      "Processing Record 29 of Set 7 | sonoita\n",
      "Processing Record 30 of Set 7 | flin flon\n",
      "Processing Record 31 of Set 7 | belyy\n",
      "Processing Record 32 of Set 7 | ticvaniu mare\n",
      "Processing Record 33 of Set 7 | zhezkazgan\n",
      "Processing Record 34 of Set 7 | nanortalik\n",
      "Processing Record 35 of Set 7 | graaff-reinet\n",
      "Processing Record 36 of Set 7 | hare bay\n",
      "Processing Record 37 of Set 7 | kibondo\n",
      "Processing Record 38 of Set 7 | minsk\n",
      "Processing Record 39 of Set 7 | coahuayana\n",
      "Processing Record 40 of Set 7 | tasiilaq\n",
      "Processing Record 41 of Set 7 | haibowan\n",
      "'coord'\n",
      "City not found. Skipping...\n",
      "Processing Record 42 of Set 7 | darnah\n",
      "('Connection aborted.', OSError(0, 'Error'))\n",
      "City not found. Skipping...\n",
      "Processing Record 43 of Set 7 | pichucalco\n",
      "Processing Record 44 of Set 7 | hay river\n",
      "Processing Record 45 of Set 7 | sibu\n",
      "Processing Record 46 of Set 7 | linhares\n",
      "Processing Record 47 of Set 7 | verkhnyaya inta\n",
      "Processing Record 48 of Set 7 | ossora\n",
      "Processing Record 49 of Set 7 | port hedland\n",
      "Processing Record 0 of Set 8 | khokhryaki\n",
      "Processing Record 1 of Set 8 | santa marta\n",
      "Processing Record 2 of Set 8 | kahului\n",
      "Processing Record 3 of Set 8 | thaton\n",
      "Processing Record 4 of Set 8 | taoudenni\n",
      "Processing Record 5 of Set 8 | saquena\n",
      "Processing Record 6 of Set 8 | ixtapa\n",
      "Processing Record 7 of Set 8 | itoman\n",
      "Processing Record 8 of Set 8 | laguna\n",
      "Processing Record 9 of Set 8 | moose factory\n",
      "Processing Record 10 of Set 8 | araci\n",
      "Processing Record 11 of Set 8 | puksoozero\n",
      "Processing Record 12 of Set 8 | thaba-tseka\n",
      "Processing Record 13 of Set 8 | el campo\n",
      "Processing Record 14 of Set 8 | chauk\n",
      "Processing Record 15 of Set 8 | mizdah\n",
      "Processing Record 16 of Set 8 | belawan\n",
      "Processing Record 17 of Set 8 | miri\n",
      "Processing Record 18 of Set 8 | mys shmidta\n",
      "'coord'\n",
      "City not found. Skipping...\n",
      "Processing Record 19 of Set 8 | saint george\n",
      "Processing Record 20 of Set 8 | port charlotte\n"
     ]
    },
    {
     "name": "stdout",
     "output_type": "stream",
     "text": [
      "Processing Record 21 of Set 8 | kenora\n",
      "Processing Record 22 of Set 8 | winslow\n",
      "Processing Record 23 of Set 8 | adrar\n",
      "Processing Record 24 of Set 8 | broome\n",
      "Processing Record 25 of Set 8 | muisne\n",
      "Processing Record 26 of Set 8 | half moon bay\n",
      "Processing Record 27 of Set 8 | puerto del rosario\n",
      "Processing Record 28 of Set 8 | otradnoye\n",
      "Processing Record 29 of Set 8 | nouadhibou\n",
      "Processing Record 30 of Set 8 | sao gabriel da cachoeira\n",
      "Processing Record 31 of Set 8 | cururupu\n",
      "Processing Record 32 of Set 8 | mount gambier\n",
      "Processing Record 33 of Set 8 | salina cruz\n",
      "Processing Record 34 of Set 8 | sabang\n",
      "Processing Record 35 of Set 8 | terra santa\n",
      "Processing Record 36 of Set 8 | port hardy\n",
      "Processing Record 37 of Set 8 | grootfontein\n",
      "Processing Record 38 of Set 8 | shelburne\n",
      "Processing Record 39 of Set 8 | habiganj\n",
      "Processing Record 40 of Set 8 | kathu\n",
      "Processing Record 41 of Set 8 | la orilla\n",
      "Processing Record 42 of Set 8 | beringovskiy\n",
      "Processing Record 43 of Set 8 | isangel\n",
      "Processing Record 44 of Set 8 | tessalit\n",
      "Processing Record 45 of Set 8 | havoysund\n",
      "Processing Record 46 of Set 8 | tautira\n",
      "Processing Record 47 of Set 8 | avera\n",
      "Processing Record 48 of Set 8 | ilulissat\n",
      "Processing Record 49 of Set 8 | werder\n",
      "Processing Record 0 of Set 9 | henties bay\n",
      "Processing Record 1 of Set 9 | fort saint john\n",
      "'coord'\n",
      "City not found. Skipping...\n",
      "Processing Record 2 of Set 9 | ikalamavony\n",
      "Processing Record 3 of Set 9 | sarahan\n",
      "Processing Record 4 of Set 9 | antofagasta\n",
      "Processing Record 5 of Set 9 | aleksandrovsk-sakhalinskiy\n",
      "Processing Record 6 of Set 9 | luganville\n",
      "Processing Record 7 of Set 9 | puerto quijarro\n",
      "Processing Record 8 of Set 9 | cidreira\n",
      "Processing Record 9 of Set 9 | oistins\n",
      "Processing Record 10 of Set 9 | warqla\n",
      "'coord'\n",
      "City not found. Skipping...\n",
      "Processing Record 11 of Set 9 | peking\n",
      "Processing Record 12 of Set 9 | corn island\n",
      "Processing Record 13 of Set 9 | auki\n",
      "Processing Record 14 of Set 9 | clyde river\n",
      "Processing Record 15 of Set 9 | tucumcari\n",
      "Processing Record 16 of Set 9 | meadow lake\n",
      "Processing Record 17 of Set 9 | kurilsk\n",
      "Processing Record 18 of Set 9 | cabra\n",
      "Processing Record 19 of Set 9 | tsihombe\n",
      "'coord'\n",
      "City not found. Skipping...\n",
      "Processing Record 20 of Set 9 | lappeenranta\n",
      "Processing Record 21 of Set 9 | grindavik\n",
      "Processing Record 22 of Set 9 | edgewater\n",
      "Processing Record 23 of Set 9 | tarauaca\n",
      "Processing Record 24 of Set 9 | boma\n",
      "Processing Record 25 of Set 9 | sisimiut\n",
      "Processing Record 26 of Set 9 | tukrah\n",
      "Processing Record 27 of Set 9 | itaquyry\n",
      "Processing Record 28 of Set 9 | sumbawanga\n",
      "Processing Record 29 of Set 9 | palmer\n",
      "Processing Record 30 of Set 9 | kodinsk\n",
      "Processing Record 31 of Set 9 | cherskiy\n",
      "Processing Record 32 of Set 9 | ndele\n",
      "Processing Record 33 of Set 9 | hingatungan\n",
      "Processing Record 34 of Set 9 | campobello di mazara\n",
      "Processing Record 35 of Set 9 | tatawin\n",
      "Processing Record 36 of Set 9 | ucluelet\n",
      "Processing Record 37 of Set 9 | portachuelo\n",
      "Processing Record 38 of Set 9 | najran\n",
      "Processing Record 39 of Set 9 | husavik\n",
      "Processing Record 40 of Set 9 | vezirkopru\n",
      "Processing Record 41 of Set 9 | artyk\n",
      "'coord'\n",
      "City not found. Skipping...\n",
      "Processing Record 42 of Set 9 | guanare\n",
      "Processing Record 43 of Set 9 | pacific grove\n",
      "Processing Record 44 of Set 9 | iquique\n",
      "Processing Record 45 of Set 9 | batticaloa\n",
      "Processing Record 46 of Set 9 | coari\n",
      "Processing Record 47 of Set 9 | alice springs\n",
      "Processing Record 48 of Set 9 | harper\n",
      "Processing Record 49 of Set 9 | aykhal\n",
      "Processing Record 0 of Set 10 | zyryanka\n",
      "Processing Record 1 of Set 10 | sistranda\n",
      "Processing Record 2 of Set 10 | sibolga\n",
      "Processing Record 3 of Set 10 | saint-pierre\n",
      "Processing Record 4 of Set 10 | kirkenes\n",
      "Processing Record 5 of Set 10 | bondowoso\n",
      "Processing Record 6 of Set 10 | umm kaddadah\n",
      "Processing Record 7 of Set 10 | opuwo\n",
      "Processing Record 8 of Set 10 | skjervoy\n",
      "Processing Record 9 of Set 10 | ayios matthaios\n",
      "'coord'\n",
      "City not found. Skipping...\n",
      "Processing Record 10 of Set 10 | namibe\n",
      "Processing Record 11 of Set 10 | black river\n",
      "Processing Record 12 of Set 10 | cordoba\n",
      "Processing Record 13 of Set 10 | ouargaye\n",
      "Processing Record 14 of Set 10 | taranagar\n",
      "Processing Record 15 of Set 10 | homa bay\n",
      "Processing Record 16 of Set 10 | lac du bonnet\n",
      "Processing Record 17 of Set 10 | temerloh\n",
      "Processing Record 18 of Set 10 | frontera\n",
      "Processing Record 19 of Set 10 | shache\n",
      "Processing Record 20 of Set 10 | kibaya\n",
      "Processing Record 21 of Set 10 | hoshcha\n",
      "Processing Record 22 of Set 10 | maumere\n",
      "Processing Record 23 of Set 10 | micheweni\n",
      "Processing Record 24 of Set 10 | oda\n",
      "Processing Record 25 of Set 10 | tilichiki\n",
      "Processing Record 26 of Set 10 | mizpe ramon\n",
      "'coord'\n",
      "City not found. Skipping...\n",
      "Processing Record 27 of Set 10 | lasa\n",
      "Processing Record 28 of Set 10 | magdagachi\n",
      "Processing Record 29 of Set 10 | nevel\n",
      "Processing Record 30 of Set 10 | soure\n",
      "Processing Record 31 of Set 10 | sidney\n",
      "Processing Record 32 of Set 10 | gravdal\n",
      "Processing Record 33 of Set 10 | sao joao do piaui\n",
      "Processing Record 34 of Set 10 | sao jose da coroa grande\n",
      "Processing Record 35 of Set 10 | mamakan\n",
      "Processing Record 36 of Set 10 | akyab\n",
      "Processing Record 37 of Set 10 | sirohi\n",
      "Processing Record 38 of Set 10 | wairoa\n",
      "Processing Record 39 of Set 10 | sola\n",
      "Processing Record 40 of Set 10 | hailar\n",
      "Processing Record 41 of Set 10 | parrita\n",
      "Processing Record 42 of Set 10 | pakxan\n",
      "Processing Record 43 of Set 10 | belaya gora\n",
      "Processing Record 44 of Set 10 | kattivakkam\n",
      "Processing Record 45 of Set 10 | sansai\n",
      "'coord'\n",
      "City not found. Skipping...\n",
      "Processing Record 46 of Set 10 | beriu\n",
      "Processing Record 47 of Set 10 | alenquer\n",
      "Processing Record 48 of Set 10 | saryozek\n",
      "Processing Record 49 of Set 10 | kharan\n",
      "Processing Record 0 of Set 11 | zwedru\n",
      "Processing Record 1 of Set 11 | nioro\n",
      "Processing Record 2 of Set 11 | doctor pedro p. pena\n",
      "'coord'\n",
      "City not found. Skipping...\n",
      "Processing Record 3 of Set 11 | conceicao do mato dentro\n",
      "Processing Record 4 of Set 11 | fare\n",
      "Processing Record 5 of Set 11 | kasane\n",
      "Processing Record 6 of Set 11 | novo aripuana\n",
      "Processing Record 7 of Set 11 | samfya\n",
      "Processing Record 8 of Set 11 | launceston\n",
      "Processing Record 9 of Set 11 | ondjiva\n",
      "Processing Record 10 of Set 11 | sinnamary\n",
      "Processing Record 11 of Set 11 | faya\n",
      "Processing Record 12 of Set 11 | san lorenzo\n",
      "Processing Record 13 of Set 11 | la ronge\n",
      "Processing Record 14 of Set 11 | halifax\n",
      "Processing Record 15 of Set 11 | maldonado\n",
      "Processing Record 16 of Set 11 | yerbogachen\n",
      "Processing Record 17 of Set 11 | hoopstad\n",
      "Processing Record 18 of Set 11 | ivybridge\n",
      "Processing Record 19 of Set 11 | santo antonio do leverger\n",
      "Processing Record 20 of Set 11 | zyryanovsk\n",
      "Processing Record 21 of Set 11 | inirida\n",
      "Processing Record 22 of Set 11 | mengyin\n",
      "Processing Record 23 of Set 11 | zaysan\n",
      "Processing Record 24 of Set 11 | ruatoria\n",
      "'coord'\n",
      "City not found. Skipping...\n",
      "Processing Record 25 of Set 11 | porto belo\n",
      "Processing Record 26 of Set 11 | agadez\n",
      "Processing Record 27 of Set 11 | arlit\n",
      "Processing Record 28 of Set 11 | mullaitivu\n",
      "'coord'\n",
      "City not found. Skipping...\n",
      "Processing Record 29 of Set 11 | trincomalee\n",
      "Processing Record 30 of Set 11 | saint-georges\n",
      "Processing Record 31 of Set 11 | stony mountain\n",
      "Processing Record 32 of Set 11 | atambua\n",
      "Processing Record 33 of Set 11 | millerovo\n",
      "Processing Record 34 of Set 11 | chimbote\n",
      "Processing Record 35 of Set 11 | goderich\n",
      "Processing Record 36 of Set 11 | altamira\n",
      "Processing Record 37 of Set 11 | vaitupu\n",
      "'coord'\n",
      "City not found. Skipping...\n",
      "Processing Record 38 of Set 11 | kadykchan\n",
      "'coord'\n",
      "City not found. Skipping...\n",
      "Processing Record 39 of Set 11 | fort nelson\n",
      "Processing Record 40 of Set 11 | beruwala\n",
      "Processing Record 41 of Set 11 | carupano\n",
      "Processing Record 42 of Set 11 | kendari\n",
      "Processing Record 43 of Set 11 | udankudi\n",
      "Processing Record 44 of Set 11 | te anau\n",
      "Processing Record 45 of Set 11 | kismayo\n",
      "Processing Record 46 of Set 11 | mercedes\n",
      "Processing Record 47 of Set 11 | new glasgow\n",
      "Processing Record 48 of Set 11 | colares\n",
      "Processing Record 49 of Set 11 | reshetylivka\n",
      "Processing Record 0 of Set 12 | nsukka\n",
      "Processing Record 1 of Set 12 | morehead\n",
      "Processing Record 2 of Set 12 | katangli\n",
      "Processing Record 3 of Set 12 | novoseleznevo\n",
      "Processing Record 4 of Set 12 | tura\n"
     ]
    },
    {
     "name": "stdout",
     "output_type": "stream",
     "text": [
      "Processing Record 5 of Set 12 | papara\n",
      "Processing Record 6 of Set 12 | nhulunbuy\n",
      "Processing Record 7 of Set 12 | baraboo\n",
      "Processing Record 8 of Set 12 | carikar\n",
      "'coord'\n",
      "City not found. Skipping...\n",
      "Processing Record 9 of Set 12 | port shepstone\n",
      "Processing Record 10 of Set 12 | tete\n",
      "Processing Record 11 of Set 12 | anadyr\n",
      "Processing Record 12 of Set 12 | duz\n",
      "'coord'\n",
      "City not found. Skipping...\n",
      "Processing Record 13 of Set 12 | slavsk\n",
      "Processing Record 14 of Set 12 | noshiro\n",
      "Processing Record 15 of Set 12 | moranbah\n",
      "Processing Record 16 of Set 12 | yuli\n",
      "Processing Record 17 of Set 12 | oussouye\n",
      "Processing Record 18 of Set 12 | acurenam\n",
      "Processing Record 19 of Set 12 | san luis rio colorado\n",
      "Processing Record 20 of Set 12 | bargal\n",
      "'coord'\n",
      "City not found. Skipping...\n",
      "Processing Record 21 of Set 12 | katherine\n",
      "Processing Record 22 of Set 12 | labutta\n",
      "'coord'\n",
      "City not found. Skipping...\n",
      "Processing Record 23 of Set 12 | fukue\n",
      "Processing Record 24 of Set 12 | moerai\n",
      "Processing Record 25 of Set 12 | lyuban\n",
      "Processing Record 26 of Set 12 | qaqortoq\n",
      "Processing Record 27 of Set 12 | dolinsk\n",
      "Processing Record 28 of Set 12 | margate\n",
      "Processing Record 29 of Set 12 | bauta\n",
      "Processing Record 30 of Set 12 | maceio\n",
      "Processing Record 31 of Set 12 | pemangkat\n",
      "Processing Record 32 of Set 12 | jacqueville\n",
      "Processing Record 33 of Set 12 | rantepao\n",
      "Processing Record 34 of Set 12 | mazagao\n",
      "Processing Record 35 of Set 12 | selestat\n",
      "Processing Record 36 of Set 12 | ilam\n",
      "Processing Record 37 of Set 12 | port macquarie\n",
      "Processing Record 38 of Set 12 | comodoro rivadavia\n",
      "Processing Record 39 of Set 12 | vysokogornyy\n",
      "Processing Record 40 of Set 12 | berestechko\n",
      "Processing Record 41 of Set 12 | kovdor\n",
      "Processing Record 42 of Set 12 | samusu\n",
      "'coord'\n",
      "City not found. Skipping...\n",
      "Processing Record 43 of Set 12 | brightwater\n",
      "Processing Record 44 of Set 12 | reni\n",
      "Processing Record 45 of Set 12 | the valley\n",
      "Processing Record 46 of Set 12 | kijang\n",
      "Processing Record 47 of Set 12 | aurad\n",
      "Processing Record 48 of Set 12 | bangassou\n",
      "Processing Record 49 of Set 12 | tibati\n",
      "Processing Record 0 of Set 13 | olsztyn\n",
      "Processing Record 1 of Set 13 | canandaigua\n",
      "Processing Record 2 of Set 13 | hovd\n",
      "Processing Record 3 of Set 13 | qandala\n",
      "Processing Record 4 of Set 13 | santarem\n",
      "Processing Record 5 of Set 13 | balkhash\n",
      "Processing Record 6 of Set 13 | tambo\n",
      "Processing Record 7 of Set 13 | toliary\n",
      "'coord'\n",
      "City not found. Skipping...\n",
      "Processing Record 8 of Set 13 | blackburn\n",
      "Processing Record 9 of Set 13 | shimanovsk\n",
      "Processing Record 10 of Set 13 | pierre\n",
      "Processing Record 11 of Set 13 | maragogi\n",
      "Processing Record 12 of Set 13 | balarampur\n",
      "Processing Record 13 of Set 13 | fairbanks\n",
      "Processing Record 14 of Set 13 | tiznit\n",
      "Processing Record 15 of Set 13 | kupang\n",
      "Processing Record 16 of Set 13 | satitoa\n",
      "'coord'\n",
      "City not found. Skipping...\n",
      "Processing Record 17 of Set 13 | vila franca do campo\n",
      "-----------------------------\n",
      "Data Retrieval Complete      \n",
      "-----------------------------\n"
     ]
    }
   ],
   "source": [
    "# Set the API base URL\n",
    "url = \"https://api.openweathermap.org\"\n",
    "\n",
    "# Define an empty list to fetch the weather data for each city\n",
    "city_data = []\n",
    "\n",
    "# Print to logger\n",
    "print(\"Beginning Data Retrieval     \")\n",
    "print(\"-----------------------------\")\n",
    "\n",
    "# Create counters\n",
    "record_count = 1\n",
    "set_count = 1\n",
    "\n",
    "# Loop through all the cities in our list to fetch weather data\n",
    "for i, city in enumerate(cities):\n",
    "        \n",
    "    # Group cities in sets of 50 for logging purposes\n",
    "    if (i % 50 == 0 and i >= 50):\n",
    "        set_count += 1\n",
    "        record_count = 0\n",
    "\n",
    "    # Create endpoint URL with each city\n",
    "    city_url = url + f\"/data/2.5/weather?q={city}&APPID={weather_api_key}\"\n",
    "    \n",
    "    # Log the url, record, and set numbers\n",
    "    print(\"Processing Record %s of Set %s | %s\" % (record_count, set_count, city))\n",
    "\n",
    "    # Add 1 to the record count\n",
    "    record_count += 1\n",
    "\n",
    "    # Run an API request for each of the cities\n",
    "    try:\n",
    "        # Parse the JSON and retrieve data\n",
    "        city_weather = requests.get(city_url).json()\n",
    "        # print(json.dumps(city_weather, indent=4, sort_keys=True))\n",
    "        \n",
    "        # Parse out latitude, longitude, max temp, humidity, cloudiness, wind speed, country, and date\n",
    "        city_lat = city_weather[\"coord\"][\"lat\"]\n",
    "        city_lng = city_weather[\"coord\"][\"lon\"]\n",
    "        city_max_temp = city_weather['main']['temp_max']\n",
    "        city_humidity = city_weather['main']['humidity']\n",
    "        city_clouds = city_weather['clouds']['all']\n",
    "        city_wind = city_weather['wind']['speed']\n",
    "        city_country = city_weather['sys']['country']\n",
    "        city_date = city_weather['dt']\n",
    "\n",
    "        # Append the City information into city_data list\n",
    "        city_data.append({\"City\": city, \n",
    "                          \"Lat\": city_lat, \n",
    "                          \"Lng\": city_lng, \n",
    "                          \"Max Temp\": city_max_temp,\n",
    "                          \"Humidity\": city_humidity,\n",
    "                          \"Cloudiness\": city_clouds,\n",
    "                          \"Wind Speed\": city_wind,\n",
    "                          \"Country\": city_country,\n",
    "                          \"Date\": city_date})\n",
    "\n",
    "    # If an error is experienced, skip the city\n",
    "    except Exception as e:\n",
    "        print(e)\n",
    "        print(\"City not found. Skipping...\")\n",
    "        pass\n",
    "              \n",
    "# Indicate that Data Loading is complete \n",
    "print(\"-----------------------------\")\n",
    "print(\"Data Retrieval Complete      \")\n",
    "print(\"-----------------------------\")"
   ]
  },
  {
   "cell_type": "code",
   "execution_count": 93,
   "metadata": {},
   "outputs": [
    {
     "data": {
      "text/plain": [
       "City          569\n",
       "Lat           569\n",
       "Lng           569\n",
       "Max Temp      569\n",
       "Humidity      569\n",
       "Cloudiness    569\n",
       "Wind Speed    569\n",
       "Country       569\n",
       "Date          569\n",
       "dtype: int64"
      ]
     },
     "execution_count": 93,
     "metadata": {},
     "output_type": "execute_result"
    }
   ],
   "source": [
    "# Convert the cities weather data into a Pandas DataFrame\n",
    "city_data_df = pd.DataFrame(city_data)\n",
    "# Show Record Count\n",
    "city_data_df.count()"
   ]
  },
  {
   "cell_type": "code",
   "execution_count": 94,
   "metadata": {},
   "outputs": [
    {
     "data": {
      "text/html": [
       "<div>\n",
       "<style scoped>\n",
       "    .dataframe tbody tr th:only-of-type {\n",
       "        vertical-align: middle;\n",
       "    }\n",
       "\n",
       "    .dataframe tbody tr th {\n",
       "        vertical-align: top;\n",
       "    }\n",
       "\n",
       "    .dataframe thead th {\n",
       "        text-align: right;\n",
       "    }\n",
       "</style>\n",
       "<table border=\"1\" class=\"dataframe\">\n",
       "  <thead>\n",
       "    <tr style=\"text-align: right;\">\n",
       "      <th></th>\n",
       "      <th>City</th>\n",
       "      <th>Lat</th>\n",
       "      <th>Lng</th>\n",
       "      <th>Max Temp</th>\n",
       "      <th>Humidity</th>\n",
       "      <th>Cloudiness</th>\n",
       "      <th>Wind Speed</th>\n",
       "      <th>Country</th>\n",
       "      <th>Date</th>\n",
       "    </tr>\n",
       "  </thead>\n",
       "  <tbody>\n",
       "    <tr>\n",
       "      <th>0</th>\n",
       "      <td>codrington</td>\n",
       "      <td>-38.2667</td>\n",
       "      <td>141.9667</td>\n",
       "      <td>285.45</td>\n",
       "      <td>94</td>\n",
       "      <td>10</td>\n",
       "      <td>3.43</td>\n",
       "      <td>AU</td>\n",
       "      <td>1681413180</td>\n",
       "    </tr>\n",
       "    <tr>\n",
       "      <th>1</th>\n",
       "      <td>roald</td>\n",
       "      <td>62.5833</td>\n",
       "      <td>6.1333</td>\n",
       "      <td>285.66</td>\n",
       "      <td>46</td>\n",
       "      <td>0</td>\n",
       "      <td>6.17</td>\n",
       "      <td>NO</td>\n",
       "      <td>1681413745</td>\n",
       "    </tr>\n",
       "    <tr>\n",
       "      <th>2</th>\n",
       "      <td>mahebourg</td>\n",
       "      <td>-20.4081</td>\n",
       "      <td>57.7000</td>\n",
       "      <td>298.29</td>\n",
       "      <td>94</td>\n",
       "      <td>20</td>\n",
       "      <td>1.54</td>\n",
       "      <td>MU</td>\n",
       "      <td>1681413746</td>\n",
       "    </tr>\n",
       "    <tr>\n",
       "      <th>3</th>\n",
       "      <td>jamestown</td>\n",
       "      <td>42.0970</td>\n",
       "      <td>-79.2353</td>\n",
       "      <td>299.95</td>\n",
       "      <td>27</td>\n",
       "      <td>0</td>\n",
       "      <td>6.69</td>\n",
       "      <td>US</td>\n",
       "      <td>1681413150</td>\n",
       "    </tr>\n",
       "    <tr>\n",
       "      <th>4</th>\n",
       "      <td>carutapera</td>\n",
       "      <td>-1.1950</td>\n",
       "      <td>-46.0200</td>\n",
       "      <td>301.99</td>\n",
       "      <td>73</td>\n",
       "      <td>99</td>\n",
       "      <td>3.55</td>\n",
       "      <td>BR</td>\n",
       "      <td>1681413746</td>\n",
       "    </tr>\n",
       "  </tbody>\n",
       "</table>\n",
       "</div>"
      ],
      "text/plain": [
       "         City      Lat       Lng  Max Temp  Humidity  Cloudiness  Wind Speed  \\\n",
       "0  codrington -38.2667  141.9667    285.45        94          10        3.43   \n",
       "1       roald  62.5833    6.1333    285.66        46           0        6.17   \n",
       "2   mahebourg -20.4081   57.7000    298.29        94          20        1.54   \n",
       "3   jamestown  42.0970  -79.2353    299.95        27           0        6.69   \n",
       "4  carutapera  -1.1950  -46.0200    301.99        73          99        3.55   \n",
       "\n",
       "  Country        Date  \n",
       "0      AU  1681413180  \n",
       "1      NO  1681413745  \n",
       "2      MU  1681413746  \n",
       "3      US  1681413150  \n",
       "4      BR  1681413746  "
      ]
     },
     "execution_count": 94,
     "metadata": {},
     "output_type": "execute_result"
    }
   ],
   "source": [
    "# Display sample data\n",
    "city_data_df.head()"
   ]
  },
  {
   "cell_type": "code",
   "execution_count": 95,
   "metadata": {},
   "outputs": [
    {
     "data": {
      "text/html": [
       "<div>\n",
       "<style scoped>\n",
       "    .dataframe tbody tr th:only-of-type {\n",
       "        vertical-align: middle;\n",
       "    }\n",
       "\n",
       "    .dataframe tbody tr th {\n",
       "        vertical-align: top;\n",
       "    }\n",
       "\n",
       "    .dataframe thead th {\n",
       "        text-align: right;\n",
       "    }\n",
       "</style>\n",
       "<table border=\"1\" class=\"dataframe\">\n",
       "  <thead>\n",
       "    <tr style=\"text-align: right;\">\n",
       "      <th></th>\n",
       "      <th>City</th>\n",
       "      <th>Lat</th>\n",
       "      <th>Lng</th>\n",
       "      <th>Max Temp</th>\n",
       "      <th>Humidity</th>\n",
       "      <th>Cloudiness</th>\n",
       "      <th>Wind Speed</th>\n",
       "      <th>Country</th>\n",
       "      <th>Date</th>\n",
       "    </tr>\n",
       "  </thead>\n",
       "  <tbody>\n",
       "    <tr>\n",
       "      <th>0</th>\n",
       "      <td>codrington</td>\n",
       "      <td>-38.2667</td>\n",
       "      <td>141.9667</td>\n",
       "      <td>12.30</td>\n",
       "      <td>94</td>\n",
       "      <td>10</td>\n",
       "      <td>3.43</td>\n",
       "      <td>AU</td>\n",
       "      <td>1681413180</td>\n",
       "    </tr>\n",
       "    <tr>\n",
       "      <th>1</th>\n",
       "      <td>roald</td>\n",
       "      <td>62.5833</td>\n",
       "      <td>6.1333</td>\n",
       "      <td>12.51</td>\n",
       "      <td>46</td>\n",
       "      <td>0</td>\n",
       "      <td>6.17</td>\n",
       "      <td>NO</td>\n",
       "      <td>1681413745</td>\n",
       "    </tr>\n",
       "    <tr>\n",
       "      <th>2</th>\n",
       "      <td>mahebourg</td>\n",
       "      <td>-20.4081</td>\n",
       "      <td>57.7000</td>\n",
       "      <td>25.14</td>\n",
       "      <td>94</td>\n",
       "      <td>20</td>\n",
       "      <td>1.54</td>\n",
       "      <td>MU</td>\n",
       "      <td>1681413746</td>\n",
       "    </tr>\n",
       "    <tr>\n",
       "      <th>3</th>\n",
       "      <td>jamestown</td>\n",
       "      <td>42.0970</td>\n",
       "      <td>-79.2353</td>\n",
       "      <td>26.80</td>\n",
       "      <td>27</td>\n",
       "      <td>0</td>\n",
       "      <td>6.69</td>\n",
       "      <td>US</td>\n",
       "      <td>1681413150</td>\n",
       "    </tr>\n",
       "    <tr>\n",
       "      <th>4</th>\n",
       "      <td>carutapera</td>\n",
       "      <td>-1.1950</td>\n",
       "      <td>-46.0200</td>\n",
       "      <td>28.84</td>\n",
       "      <td>73</td>\n",
       "      <td>99</td>\n",
       "      <td>3.55</td>\n",
       "      <td>BR</td>\n",
       "      <td>1681413746</td>\n",
       "    </tr>\n",
       "  </tbody>\n",
       "</table>\n",
       "</div>"
      ],
      "text/plain": [
       "         City      Lat       Lng  Max Temp  Humidity  Cloudiness  Wind Speed  \\\n",
       "0  codrington -38.2667  141.9667     12.30        94          10        3.43   \n",
       "1       roald  62.5833    6.1333     12.51        46           0        6.17   \n",
       "2   mahebourg -20.4081   57.7000     25.14        94          20        1.54   \n",
       "3   jamestown  42.0970  -79.2353     26.80        27           0        6.69   \n",
       "4  carutapera  -1.1950  -46.0200     28.84        73          99        3.55   \n",
       "\n",
       "  Country        Date  \n",
       "0      AU  1681413180  \n",
       "1      NO  1681413745  \n",
       "2      MU  1681413746  \n",
       "3      US  1681413150  \n",
       "4      BR  1681413746  "
      ]
     },
     "execution_count": 95,
     "metadata": {},
     "output_type": "execute_result"
    }
   ],
   "source": [
    "# convert Kelvin to Celsius\n",
    "city_data_df[\"Max Temp\"] = city_data_df[\"Max Temp\"] - 273.15\n",
    "city_data_df.head()"
   ]
  },
  {
   "cell_type": "code",
   "execution_count": 96,
   "metadata": {},
   "outputs": [],
   "source": [
    "# Export the City_Data into a csv\n",
    "# Creating the output_data directory if it doesn't exist\n",
    "isExists = os.path.isdir(\"output_data\")\n",
    "if not isExists:\n",
    "    os.mkdir(\"output_data\")\n",
    "city_data_df.to_csv(\"output_data/cities.csv\", index_label=\"City_ID\")"
   ]
  },
  {
   "cell_type": "code",
   "execution_count": 97,
   "metadata": {},
   "outputs": [
    {
     "data": {
      "text/html": [
       "<div>\n",
       "<style scoped>\n",
       "    .dataframe tbody tr th:only-of-type {\n",
       "        vertical-align: middle;\n",
       "    }\n",
       "\n",
       "    .dataframe tbody tr th {\n",
       "        vertical-align: top;\n",
       "    }\n",
       "\n",
       "    .dataframe thead th {\n",
       "        text-align: right;\n",
       "    }\n",
       "</style>\n",
       "<table border=\"1\" class=\"dataframe\">\n",
       "  <thead>\n",
       "    <tr style=\"text-align: right;\">\n",
       "      <th></th>\n",
       "      <th>City</th>\n",
       "      <th>Lat</th>\n",
       "      <th>Lng</th>\n",
       "      <th>Max Temp</th>\n",
       "      <th>Humidity</th>\n",
       "      <th>Cloudiness</th>\n",
       "      <th>Wind Speed</th>\n",
       "      <th>Country</th>\n",
       "      <th>Date</th>\n",
       "    </tr>\n",
       "    <tr>\n",
       "      <th>City_ID</th>\n",
       "      <th></th>\n",
       "      <th></th>\n",
       "      <th></th>\n",
       "      <th></th>\n",
       "      <th></th>\n",
       "      <th></th>\n",
       "      <th></th>\n",
       "      <th></th>\n",
       "      <th></th>\n",
       "    </tr>\n",
       "  </thead>\n",
       "  <tbody>\n",
       "    <tr>\n",
       "      <th>0</th>\n",
       "      <td>codrington</td>\n",
       "      <td>-38.2667</td>\n",
       "      <td>141.9667</td>\n",
       "      <td>12.30</td>\n",
       "      <td>94</td>\n",
       "      <td>10</td>\n",
       "      <td>3.43</td>\n",
       "      <td>AU</td>\n",
       "      <td>1681413180</td>\n",
       "    </tr>\n",
       "    <tr>\n",
       "      <th>1</th>\n",
       "      <td>roald</td>\n",
       "      <td>62.5833</td>\n",
       "      <td>6.1333</td>\n",
       "      <td>12.51</td>\n",
       "      <td>46</td>\n",
       "      <td>0</td>\n",
       "      <td>6.17</td>\n",
       "      <td>NO</td>\n",
       "      <td>1681413745</td>\n",
       "    </tr>\n",
       "    <tr>\n",
       "      <th>2</th>\n",
       "      <td>mahebourg</td>\n",
       "      <td>-20.4081</td>\n",
       "      <td>57.7000</td>\n",
       "      <td>25.14</td>\n",
       "      <td>94</td>\n",
       "      <td>20</td>\n",
       "      <td>1.54</td>\n",
       "      <td>MU</td>\n",
       "      <td>1681413746</td>\n",
       "    </tr>\n",
       "    <tr>\n",
       "      <th>3</th>\n",
       "      <td>jamestown</td>\n",
       "      <td>42.0970</td>\n",
       "      <td>-79.2353</td>\n",
       "      <td>26.80</td>\n",
       "      <td>27</td>\n",
       "      <td>0</td>\n",
       "      <td>6.69</td>\n",
       "      <td>US</td>\n",
       "      <td>1681413150</td>\n",
       "    </tr>\n",
       "    <tr>\n",
       "      <th>4</th>\n",
       "      <td>carutapera</td>\n",
       "      <td>-1.1950</td>\n",
       "      <td>-46.0200</td>\n",
       "      <td>28.84</td>\n",
       "      <td>73</td>\n",
       "      <td>99</td>\n",
       "      <td>3.55</td>\n",
       "      <td>BR</td>\n",
       "      <td>1681413746</td>\n",
       "    </tr>\n",
       "  </tbody>\n",
       "</table>\n",
       "</div>"
      ],
      "text/plain": [
       "               City      Lat       Lng  Max Temp  Humidity  Cloudiness  \\\n",
       "City_ID                                                                  \n",
       "0        codrington -38.2667  141.9667     12.30        94          10   \n",
       "1             roald  62.5833    6.1333     12.51        46           0   \n",
       "2         mahebourg -20.4081   57.7000     25.14        94          20   \n",
       "3         jamestown  42.0970  -79.2353     26.80        27           0   \n",
       "4        carutapera  -1.1950  -46.0200     28.84        73          99   \n",
       "\n",
       "         Wind Speed Country        Date  \n",
       "City_ID                                  \n",
       "0              3.43      AU  1681413180  \n",
       "1              6.17      NO  1681413745  \n",
       "2              1.54      MU  1681413746  \n",
       "3              6.69      US  1681413150  \n",
       "4              3.55      BR  1681413746  "
      ]
     },
     "execution_count": 97,
     "metadata": {},
     "output_type": "execute_result"
    }
   ],
   "source": [
    "# Read saved data\n",
    "city_data_df = pd.read_csv(\"output_data/cities.csv\", index_col=\"City_ID\")\n",
    "\n",
    "# Display sample data\n",
    "city_data_df.head()"
   ]
  },
  {
   "cell_type": "markdown",
   "metadata": {},
   "source": [
    "### Create the Scatter Plots Requested\n",
    "\n",
    "#### Latitude Vs. Temperature"
   ]
  },
  {
   "cell_type": "code",
   "execution_count": 98,
   "metadata": {
    "tags": []
   },
   "outputs": [
    {
     "data": {
      "image/png": "[encoded data removed]",
      "text/plain": [
       "<Figure size 432x288 with 1 Axes>"
      ]
     },
     "metadata": {
      "needs_background": "light"
     },
     "output_type": "display_data"
    }
   ],
   "source": [
    "# Build scatter plot for latitude vs. temperature\n",
    "latitude = city_data_df['Lat']\n",
    "temp = city_data_df['Max Temp']\n",
    "plt.scatter(latitude, temp, edgecolors=\"black\")\n",
    "\n",
    "# Incorporate the other graph properties\n",
    "plt.grid()\n",
    "plt.xlabel(\"Latitude\")\n",
    "plt.ylabel(\"Max Temperature (C)\")\n",
    "plt.title(\"Latitude vs. Max Temperature\")\n",
    "\n",
    "# Save the figure\n",
    "plt.savefig(\"output_data/Fig1.png\")\n",
    "\n",
    "# Show plot\n",
    "plt.show()"
   ]
  },
  {
   "cell_type": "markdown",
   "metadata": {},
   "source": [
    "#### Latitude Vs. Humidity"
   ]
  },
  {
   "cell_type": "code",
   "execution_count": 99,
   "metadata": {},
   "outputs": [
    {
     "data": {
      "image/png": "[encoded data removed]",
      "text/plain": [
       "<Figure size 432x288 with 1 Axes>"
      ]
     },
     "metadata": {
      "needs_background": "light"
     },
     "output_type": "display_data"
    }
   ],
   "source": [
    "# Build the scatter plots for latitude vs. humidity\n",
    "humidity = city_data_df['Humidity'].astype(\"float\")\n",
    "plt.scatter(latitude, humidity, edgecolors=\"black\")\n",
    "\n",
    "# Incorporate the other graph properties\n",
    "plt.grid()\n",
    "plt.xlabel(\"Latitude\")\n",
    "plt.ylabel(\"Humidity (%)\")\n",
    "plt.title(\"Latitude vs. Humidity\")\n",
    "\n",
    "# Save the figure\n",
    "plt.savefig(\"output_data/Fig2.png\")\n",
    "\n",
    "# Show plot\n",
    "plt.show()"
   ]
  },
  {
   "cell_type": "markdown",
   "metadata": {},
   "source": [
    "#### Latitude Vs. Cloudiness"
   ]
  },
  {
   "cell_type": "code",
   "execution_count": 100,
   "metadata": {},
   "outputs": [
    {
     "data": {
      "image/png": "[encoded data removed]",
      "text/plain": [
       "<Figure size 432x288 with 1 Axes>"
      ]
     },
     "metadata": {
      "needs_background": "light"
     },
     "output_type": "display_data"
    }
   ],
   "source": [
    "# Build the scatter plots for latitude vs. cloudiness\n",
    "cloudiness = city_data_df['Cloudiness']\n",
    "plt.scatter(latitude, cloudiness, edgecolors=\"black\")\n",
    "\n",
    "# Incorporate the other graph properties\n",
    "plt.grid()\n",
    "plt.xlabel(\"Latitude\")\n",
    "plt.ylabel(\"Cloudiness (%)\")\n",
    "plt.title(\"Latitude vs. Cloudiness\")\n",
    "\n",
    "# Save the figure\n",
    "plt.savefig(\"output_data/Fig3.png\")\n",
    "\n",
    "# Show plot\n",
    "plt.show()"
   ]
  },
  {
   "cell_type": "markdown",
   "metadata": {},
   "source": [
    "#### Latitude vs. Wind Speed Plot"
   ]
  },
  {
   "cell_type": "code",
   "execution_count": 101,
   "metadata": {},
   "outputs": [
    {
     "data": {
      "image/png": "[encoded data removed]",
      "text/plain": [
       "<Figure size 432x288 with 1 Axes>"
      ]
     },
     "metadata": {
      "needs_background": "light"
     },
     "output_type": "display_data"
    }
   ],
   "source": [
    "# Build the scatter plots for latitude vs. wind speed\n",
    "wind_speed = city_data_df['Wind Speed']\n",
    "plt.scatter(latitude, wind_speed, edgecolors=\"black\")\n",
    "\n",
    "# Incorporate the other graph properties\n",
    "plt.grid()\n",
    "plt.xlabel(\"Latitude\")\n",
    "plt.ylabel(\"Wind Speed (m/s)\")\n",
    "plt.title(\"Latitude vs. Wind Speed\")\n",
    "\n",
    "# Save the figure\n",
    "plt.savefig(\"output_data/Fig4.png\")\n",
    "\n",
    "# Show plot\n",
    "plt.show()"
   ]
  },
  {
   "cell_type": "markdown",
   "metadata": {},
   "source": [
    "---\n",
    "\n",
    "## Requirement 2: Compute Linear Regression for Each Relationship\n"
   ]
  },
  {
   "cell_type": "code",
   "execution_count": 102,
   "metadata": {},
   "outputs": [],
   "source": [
    "# Define a function to create Linear Regression plots\n",
    "def linreg(x_axis, y_axis, xlabel, ylabel, title, xpos, ypos):\n",
    "    (slope, intercept, rvalue, pvalue, stderr) = linregress(x_axis, y_axis)\n",
    "    print(\"The r-value is \" + str(rvalue) + \".\")\n",
    "    regress_values = slope * x_axis + intercept\n",
    "    line_eq = \"y = \" + str(round(slope,2)) + \"x + \" + str(round(intercept,2))\n",
    "    plt.scatter(x_axis, y_axis)\n",
    "    plt.plot(x_axis, regress_values, \"r-\")\n",
    "    plt.annotate(line_eq,(xpos, ypos),fontsize=15,color=\"red\")\n",
    "    plt.xlabel(xlabel)\n",
    "    plt.ylabel(ylabel)\n",
    "    plt.title(title)\n",
    "    return str(rvalue)"
   ]
  },
  {
   "cell_type": "code",
   "execution_count": 103,
   "metadata": {},
   "outputs": [
    {
     "data": {
      "text/html": [
       "<div>\n",
       "<style scoped>\n",
       "    .dataframe tbody tr th:only-of-type {\n",
       "        vertical-align: middle;\n",
       "    }\n",
       "\n",
       "    .dataframe tbody tr th {\n",
       "        vertical-align: top;\n",
       "    }\n",
       "\n",
       "    .dataframe thead th {\n",
       "        text-align: right;\n",
       "    }\n",
       "</style>\n",
       "<table border=\"1\" class=\"dataframe\">\n",
       "  <thead>\n",
       "    <tr style=\"text-align: right;\">\n",
       "      <th></th>\n",
       "      <th>City</th>\n",
       "      <th>Lat</th>\n",
       "      <th>Lng</th>\n",
       "      <th>Max Temp</th>\n",
       "      <th>Humidity</th>\n",
       "      <th>Cloudiness</th>\n",
       "      <th>Wind Speed</th>\n",
       "      <th>Country</th>\n",
       "      <th>Date</th>\n",
       "    </tr>\n",
       "    <tr>\n",
       "      <th>City_ID</th>\n",
       "      <th></th>\n",
       "      <th></th>\n",
       "      <th></th>\n",
       "      <th></th>\n",
       "      <th></th>\n",
       "      <th></th>\n",
       "      <th></th>\n",
       "      <th></th>\n",
       "      <th></th>\n",
       "    </tr>\n",
       "  </thead>\n",
       "  <tbody>\n",
       "    <tr>\n",
       "      <th>1</th>\n",
       "      <td>roald</td>\n",
       "      <td>62.5833</td>\n",
       "      <td>6.1333</td>\n",
       "      <td>12.51</td>\n",
       "      <td>46</td>\n",
       "      <td>0</td>\n",
       "      <td>6.17</td>\n",
       "      <td>NO</td>\n",
       "      <td>1681413745</td>\n",
       "    </tr>\n",
       "    <tr>\n",
       "      <th>3</th>\n",
       "      <td>jamestown</td>\n",
       "      <td>42.0970</td>\n",
       "      <td>-79.2353</td>\n",
       "      <td>26.80</td>\n",
       "      <td>27</td>\n",
       "      <td>0</td>\n",
       "      <td>6.69</td>\n",
       "      <td>US</td>\n",
       "      <td>1681413150</td>\n",
       "    </tr>\n",
       "    <tr>\n",
       "      <th>7</th>\n",
       "      <td>salym</td>\n",
       "      <td>60.0625</td>\n",
       "      <td>71.4789</td>\n",
       "      <td>-15.61</td>\n",
       "      <td>94</td>\n",
       "      <td>9</td>\n",
       "      <td>2.92</td>\n",
       "      <td>RU</td>\n",
       "      <td>1681413182</td>\n",
       "    </tr>\n",
       "    <tr>\n",
       "      <th>9</th>\n",
       "      <td>butaritari</td>\n",
       "      <td>3.0707</td>\n",
       "      <td>172.7902</td>\n",
       "      <td>27.18</td>\n",
       "      <td>81</td>\n",
       "      <td>75</td>\n",
       "      <td>5.46</td>\n",
       "      <td>KI</td>\n",
       "      <td>1681413748</td>\n",
       "    </tr>\n",
       "    <tr>\n",
       "      <th>10</th>\n",
       "      <td>creel</td>\n",
       "      <td>27.7500</td>\n",
       "      <td>-107.6333</td>\n",
       "      <td>17.34</td>\n",
       "      <td>13</td>\n",
       "      <td>83</td>\n",
       "      <td>9.46</td>\n",
       "      <td>MX</td>\n",
       "      <td>1681413183</td>\n",
       "    </tr>\n",
       "  </tbody>\n",
       "</table>\n",
       "</div>"
      ],
      "text/plain": [
       "               City      Lat       Lng  Max Temp  Humidity  Cloudiness  \\\n",
       "City_ID                                                                  \n",
       "1             roald  62.5833    6.1333     12.51        46           0   \n",
       "3         jamestown  42.0970  -79.2353     26.80        27           0   \n",
       "7             salym  60.0625   71.4789    -15.61        94           9   \n",
       "9        butaritari   3.0707  172.7902     27.18        81          75   \n",
       "10            creel  27.7500 -107.6333     17.34        13          83   \n",
       "\n",
       "         Wind Speed Country        Date  \n",
       "City_ID                                  \n",
       "1              6.17      NO  1681413745  \n",
       "3              6.69      US  1681413150  \n",
       "7              2.92      RU  1681413182  \n",
       "9              5.46      KI  1681413748  \n",
       "10             9.46      MX  1681413183  "
      ]
     },
     "execution_count": 103,
     "metadata": {},
     "output_type": "execute_result"
    }
   ],
   "source": [
    "# Create a DataFrame with the Northern Hemisphere data (Latitude >= 0)\n",
    "northern_hemi_df = city_data_df[city_data_df['Lat'] >= 0]\n",
    "\n",
    "# Display sample data\n",
    "northern_hemi_df.head()"
   ]
  },
  {
   "cell_type": "code",
   "execution_count": 104,
   "metadata": {},
   "outputs": [
    {
     "data": {
      "text/html": [
       "<div>\n",
       "<style scoped>\n",
       "    .dataframe tbody tr th:only-of-type {\n",
       "        vertical-align: middle;\n",
       "    }\n",
       "\n",
       "    .dataframe tbody tr th {\n",
       "        vertical-align: top;\n",
       "    }\n",
       "\n",
       "    .dataframe thead th {\n",
       "        text-align: right;\n",
       "    }\n",
       "</style>\n",
       "<table border=\"1\" class=\"dataframe\">\n",
       "  <thead>\n",
       "    <tr style=\"text-align: right;\">\n",
       "      <th></th>\n",
       "      <th>City</th>\n",
       "      <th>Lat</th>\n",
       "      <th>Lng</th>\n",
       "      <th>Max Temp</th>\n",
       "      <th>Humidity</th>\n",
       "      <th>Cloudiness</th>\n",
       "      <th>Wind Speed</th>\n",
       "      <th>Country</th>\n",
       "      <th>Date</th>\n",
       "    </tr>\n",
       "    <tr>\n",
       "      <th>City_ID</th>\n",
       "      <th></th>\n",
       "      <th></th>\n",
       "      <th></th>\n",
       "      <th></th>\n",
       "      <th></th>\n",
       "      <th></th>\n",
       "      <th></th>\n",
       "      <th></th>\n",
       "      <th></th>\n",
       "    </tr>\n",
       "  </thead>\n",
       "  <tbody>\n",
       "    <tr>\n",
       "      <th>0</th>\n",
       "      <td>codrington</td>\n",
       "      <td>-38.2667</td>\n",
       "      <td>141.9667</td>\n",
       "      <td>12.30</td>\n",
       "      <td>94</td>\n",
       "      <td>10</td>\n",
       "      <td>3.43</td>\n",
       "      <td>AU</td>\n",
       "      <td>1681413180</td>\n",
       "    </tr>\n",
       "    <tr>\n",
       "      <th>2</th>\n",
       "      <td>mahebourg</td>\n",
       "      <td>-20.4081</td>\n",
       "      <td>57.7000</td>\n",
       "      <td>25.14</td>\n",
       "      <td>94</td>\n",
       "      <td>20</td>\n",
       "      <td>1.54</td>\n",
       "      <td>MU</td>\n",
       "      <td>1681413746</td>\n",
       "    </tr>\n",
       "    <tr>\n",
       "      <th>4</th>\n",
       "      <td>carutapera</td>\n",
       "      <td>-1.1950</td>\n",
       "      <td>-46.0200</td>\n",
       "      <td>28.84</td>\n",
       "      <td>73</td>\n",
       "      <td>99</td>\n",
       "      <td>3.55</td>\n",
       "      <td>BR</td>\n",
       "      <td>1681413746</td>\n",
       "    </tr>\n",
       "    <tr>\n",
       "      <th>5</th>\n",
       "      <td>rawson</td>\n",
       "      <td>-43.3002</td>\n",
       "      <td>-65.1023</td>\n",
       "      <td>12.28</td>\n",
       "      <td>43</td>\n",
       "      <td>6</td>\n",
       "      <td>3.34</td>\n",
       "      <td>AR</td>\n",
       "      <td>1681413747</td>\n",
       "    </tr>\n",
       "    <tr>\n",
       "      <th>6</th>\n",
       "      <td>labuhan</td>\n",
       "      <td>-6.8844</td>\n",
       "      <td>112.2051</td>\n",
       "      <td>26.18</td>\n",
       "      <td>82</td>\n",
       "      <td>46</td>\n",
       "      <td>4.15</td>\n",
       "      <td>ID</td>\n",
       "      <td>1681413182</td>\n",
       "    </tr>\n",
       "  </tbody>\n",
       "</table>\n",
       "</div>"
      ],
      "text/plain": [
       "               City      Lat       Lng  Max Temp  Humidity  Cloudiness  \\\n",
       "City_ID                                                                  \n",
       "0        codrington -38.2667  141.9667     12.30        94          10   \n",
       "2         mahebourg -20.4081   57.7000     25.14        94          20   \n",
       "4        carutapera  -1.1950  -46.0200     28.84        73          99   \n",
       "5            rawson -43.3002  -65.1023     12.28        43           6   \n",
       "6           labuhan  -6.8844  112.2051     26.18        82          46   \n",
       "\n",
       "         Wind Speed Country        Date  \n",
       "City_ID                                  \n",
       "0              3.43      AU  1681413180  \n",
       "2              1.54      MU  1681413746  \n",
       "4              3.55      BR  1681413746  \n",
       "5              3.34      AR  1681413747  \n",
       "6              4.15      ID  1681413182  "
      ]
     },
     "execution_count": 104,
     "metadata": {},
     "output_type": "execute_result"
    }
   ],
   "source": [
    "# Create a DataFrame with the Southern Hemisphere data (Latitude < 0)\n",
    "southern_hemi_df = city_data_df[city_data_df['Lat'] < 0]\n",
    "\n",
    "# Display sample data\n",
    "southern_hemi_df.head()"
   ]
  },
  {
   "cell_type": "markdown",
   "metadata": {},
   "source": [
    "###  Temperature vs. Latitude Linear Regression Plot"
   ]
  },
  {
   "cell_type": "code",
   "execution_count": 105,
   "metadata": {},
   "outputs": [
    {
     "name": "stdout",
     "output_type": "stream",
     "text": [
      "The r-value is -0.8529617754845613.\n"
     ]
    },
    {
     "data": {
      "image/png": "[encoded data removed]",
      "text/plain": [
       "<Figure size 432x288 with 1 Axes>"
      ]
     },
     "metadata": {
      "needs_background": "light"
     },
     "output_type": "display_data"
    }
   ],
   "source": [
    "# Linear regression on Northern Hemisphere\n",
    "northern_hemi_lat = northern_hemi_df['Lat']\n",
    "rval1 = linreg(northern_hemi_lat, northern_hemi_df['Max Temp'], \"Latitude\", \"Max Temperature (C)\", \"Latitude vs. Max Temperature in the Northern Hemisphere\", 10, -10)"
   ]
  },
  {
   "cell_type": "code",
   "execution_count": 106,
   "metadata": {},
   "outputs": [
    {
     "name": "stdout",
     "output_type": "stream",
     "text": [
      "The r-value is 0.7601165962993117.\n"
     ]
    },
    {
     "data": {
      "image/png": "[encoded data removed]",
      "text/plain": [
       "<Figure size 432x288 with 1 Axes>"
      ]
     },
     "metadata": {
      "needs_background": "light"
     },
     "output_type": "display_data"
    }
   ],
   "source": [
    "# Linear regression on Southern Hemisphere\n",
    "southern_hemi_lat = southern_hemi_df['Lat']\n",
    "rval2 = linreg(southern_hemi_lat, southern_hemi_df['Max Temp'], \"Latitude\", \"Max Temperature (C)\", \"Latitude vs. Max Temperature in the Southern Hemisphere\", -50, 30)"
   ]
  },
  {
   "cell_type": "code",
   "execution_count": 107,
   "metadata": {},
   "outputs": [
    {
     "data": {
      "text/markdown": [
       "**Discussion about the linear relationship:** In the northern hemisphere there is a strong negative correlation between latitude and temperature, with an r-value of -0.8529617754845613. In the southern hemisphere there is a moderate correlation between latitude and temperature, with an r-value of only 0.7601165962993117. Although, when we plot both hemispheres on the same graph, it is clear that a parabolic regression that reaches its apex near the equator would fit the data better than linear regressions do."
      ],
      "text/plain": [
       "<IPython.core.display.Markdown object>"
      ]
     },
     "execution_count": 107,
     "metadata": {},
     "output_type": "execute_result"
    }
   ],
   "source": [
    "from IPython.display import Markdown as md\n",
    "md(f\"**Discussion about the linear relationship:** In the northern hemisphere there is a strong negative correlation between latitude and temperature, with an r-value of {rval1}. In the southern hemisphere there is a moderate correlation between latitude and temperature, with an r-value of only {rval2}. Although, when we plot both hemispheres on the same graph, it is clear that a parabolic regression that reaches its apex near the equator would fit the data better than linear regressions do.\")"
   ]
  },
  {
   "cell_type": "markdown",
   "metadata": {},
   "source": [
    "### Humidity vs. Latitude Linear Regression Plot"
   ]
  },
  {
   "cell_type": "code",
   "execution_count": 108,
   "metadata": {},
   "outputs": [
    {
     "name": "stdout",
     "output_type": "stream",
     "text": [
      "The r-value is 0.27046578853279507.\n"
     ]
    },
    {
     "data": {
      "image/png": "[encoded data removed]",
      "text/plain": [
       "<Figure size 432x288 with 1 Axes>"
      ]
     },
     "metadata": {
      "needs_background": "light"
     },
     "output_type": "display_data"
    }
   ],
   "source": [
    "# Northern Hemisphere\n",
    "rval3 = linreg(northern_hemi_lat, northern_hemi_df['Humidity'], \"Latitude\", \"Humidity (%)\", \"Latitude vs. Humidity in the Northern Hemisphere\", 45, 15)"
   ]
  },
  {
   "cell_type": "code",
   "execution_count": 109,
   "metadata": {},
   "outputs": [
    {
     "name": "stdout",
     "output_type": "stream",
     "text": [
      "The r-value is 0.023245708777985385.\n"
     ]
    },
    {
     "data": {
      "image/png": "[encoded data removed]",
      "text/plain": [
       "<Figure size 432x288 with 1 Axes>"
      ]
     },
     "metadata": {
      "needs_background": "light"
     },
     "output_type": "display_data"
    }
   ],
   "source": [
    "# Southern Hemisphere\n",
    "rval4 = linreg(southern_hemi_lat, southern_hemi_df['Humidity'], \"Latitude\", \"Humidity (%)\", \"Latitude vs. Humidity in the Southern Hemisphere\", -50, 40)"
   ]
  },
  {
   "cell_type": "code",
   "execution_count": 110,
   "metadata": {},
   "outputs": [
    {
     "data": {
      "text/markdown": [
       "**Discussion about the linear relationship:** In the northern hemisphere there is a very weak correlation between latitude and humidity, with an r-value of 0.27046578853279507. In the southern hemisphere there is also a very weak correlation between latitude and humidity, with an r-value of only 0.023245708777985385. Overall, linear regressions do not seem to fit this data very well, and there is little correlation between latitude and humidity."
      ],
      "text/plain": [
       "<IPython.core.display.Markdown object>"
      ]
     },
     "execution_count": 110,
     "metadata": {},
     "output_type": "execute_result"
    }
   ],
   "source": [
    "md(f\"**Discussion about the linear relationship:** In the northern hemisphere there is a very weak correlation between latitude and humidity, with an r-value of {rval3}. In the southern hemisphere there is also a very weak correlation between latitude and humidity, with an r-value of only {rval4}. Overall, linear regressions do not seem to fit this data very well, and there is little correlation between latitude and humidity.\")"
   ]
  },
  {
   "cell_type": "markdown",
   "metadata": {},
   "source": [
    "### Cloudiness vs. Latitude Linear Regression Plot"
   ]
  },
  {
   "cell_type": "code",
   "execution_count": 111,
   "metadata": {},
   "outputs": [
    {
     "name": "stdout",
     "output_type": "stream",
     "text": [
      "The r-value is 0.10830115834337689.\n"
     ]
    },
    {
     "data": {
      "image/png": "[encoded data removed]",
      "text/plain": [
       "<Figure size 432x288 with 1 Axes>"
      ]
     },
     "metadata": {
      "needs_background": "light"
     },
     "output_type": "display_data"
    }
   ],
   "source": [
    "# Northern Hemisphere\n",
    "rval5 = linreg(northern_hemi_lat, northern_hemi_df['Cloudiness'], \"Latitude\", \"Cloudiness (%)\", \"Latitude vs. Cloudiness in the Northern Hemisphere\", 25, 68)"
   ]
  },
  {
   "cell_type": "code",
   "execution_count": 112,
   "metadata": {},
   "outputs": [
    {
     "name": "stdout",
     "output_type": "stream",
     "text": [
      "The r-value is 0.3192204344712598.\n"
     ]
    },
    {
     "data": {
      "image/png": "[encoded data removed]",
      "text/plain": [
       "<Figure size 432x288 with 1 Axes>"
      ]
     },
     "metadata": {
      "needs_background": "light"
     },
     "output_type": "display_data"
    }
   ],
   "source": [
    "# Southern Hemisphere\n",
    "rval6 = linreg(southern_hemi_lat, southern_hemi_df['Cloudiness'], \"Latitude\", \"Cloudiness (%)\", \"Latitude vs. Cloudiness in the Southern Hemisphere\", -50, 60)"
   ]
  },
  {
   "cell_type": "code",
   "execution_count": 113,
   "metadata": {
    "scrolled": true
   },
   "outputs": [
    {
     "data": {
      "text/markdown": [
       "**Discussion about the linear relationship:** In the northern hemisphere there is almost no correlation between latitude and cloudiness, with an r-value of 0.10830115834337689. In the southern hemisphere, there is a slight correlation between latitude and cloudiness, with an r-value of 0.3192204344712598. Overall, these linear regressions do not seem to fit these data very well, and there is little correlation between latitude and cloudiness. "
      ],
      "text/plain": [
       "<IPython.core.display.Markdown object>"
      ]
     },
     "execution_count": 113,
     "metadata": {},
     "output_type": "execute_result"
    }
   ],
   "source": [
    "md(f\"**Discussion about the linear relationship:** In the northern hemisphere there is almost no correlation between latitude and cloudiness, with an r-value of {rval5}. In the southern hemisphere, there is a slight correlation between latitude and cloudiness, with an r-value of {rval6}. Overall, these linear regressions do not seem to fit these data very well, and there is little correlation between latitude and cloudiness. \") \n",
    "   # One thing that is perhaps worth noting, however, is that there appear to be clusers of points around (-25, 0) and (-5, 100) on the southern hemisphere plot, indicating that there are a number of cities around the equator that have lots of clouds and a number of cities around latitude -25 that have almost no clouds. "
   ]
  },
  {
   "cell_type": "markdown",
   "metadata": {},
   "source": [
    "### Wind Speed vs. Latitude Linear Regression Plot"
   ]
  },
  {
   "cell_type": "code",
   "execution_count": 114,
   "metadata": {},
   "outputs": [
    {
     "name": "stdout",
     "output_type": "stream",
     "text": [
      "The r-value is 0.0968740667390189.\n"
     ]
    },
    {
     "data": {
      "image/png": "[encoded data removed]",
      "text/plain": [
       "<Figure size 432x288 with 1 Axes>"
      ]
     },
     "metadata": {
      "needs_background": "light"
     },
     "output_type": "display_data"
    }
   ],
   "source": [
    "# Northern Hemisphere\n",
    "rval7 = linreg(northern_hemi_lat, northern_hemi_df['Wind Speed'], \"Latitude\", \"Wind Speed (m/s)\", \"Latitude vs. Wind Speed in the Northern Hemisphere\", 10, 12)"
   ]
  },
  {
   "cell_type": "code",
   "execution_count": 115,
   "metadata": {},
   "outputs": [
    {
     "name": "stdout",
     "output_type": "stream",
     "text": [
      "The r-value is -0.18782442868639657.\n"
     ]
    },
    {
     "data": {
      "image/png": "[encoded data removed]",
      "text/plain": [
       "<Figure size 432x288 with 1 Axes>"
      ]
     },
     "metadata": {
      "needs_background": "light"
     },
     "output_type": "display_data"
    }
   ],
   "source": [
    "# Southern Hemisphere\n",
    "rval8 = linreg(southern_hemi_lat, southern_hemi_df['Wind Speed'], \"Latitude\", \"Wind Speed (m/s)\", \"Latitude vs. Wind Speed in the Sourthern Hemisphere\", -30, 10)"
   ]
  },
  {
   "cell_type": "code",
   "execution_count": 116,
   "metadata": {},
   "outputs": [
    {
     "data": {
      "text/markdown": [
       "**Discussion about the linear relationship:** In the northern hemisphere, there is almost no correlation between latitude and wind speed, with an r-value of 0.0968740667390189. In the southern hemisphere there is just a slight negative correlation between latitude and wind speed, with an r-value of -0.18782442868639657."
      ],
      "text/plain": [
       "<IPython.core.display.Markdown object>"
      ]
     },
     "execution_count": 116,
     "metadata": {},
     "output_type": "execute_result"
    }
   ],
   "source": [
    "md(f\"**Discussion about the linear relationship:** In the northern hemisphere, there is almost no correlation between latitude and wind speed, with an r-value of {rval7}. In the southern hemisphere there is just a slight negative correlation between latitude and wind speed, with an r-value of {rval8}.\")"
   ]
  },
  {
   "cell_type": "code",
   "execution_count": null,
   "metadata": {},
   "outputs": [],
   "source": []
  }
 ],
 "metadata": {
  "anaconda-cloud": {},
  "kernel_info": {
   "name": "python3"
  },
  "kernelspec": {
   "display_name": "Python 3 (ipykernel)",
   "language": "python",
   "name": "python3"
  },
  "language_info": {
   "codemirror_mode": {
    "name": "ipython",
    "version": 3
   },
   "file_extension": ".py",
   "mimetype": "text/x-python",
   "name": "python",
   "nbconvert_exporter": "python",
   "pygments_lexer": "ipython3",
   "version": "3.7.7"
  },
  "latex_envs": {
   "LaTeX_envs_menu_present": true,
   "autoclose": false,
   "autocomplete": true,
   "bibliofile": "biblio.bib",
   "cite_by": "apalike",
   "current_citInitial": 1,
   "eqLabelWithNumbers": true,
   "eqNumInitial": 1,
   "hotkeys": {
    "equation": "Ctrl-E",
    "itemize": "Ctrl-I"
   },
   "labels_anchors": false,
   "latex_user_defs": false,
   "report_style_numbering": false,
   "user_envs_cfg": false
  },
  "nteract": {
   "version": "0.12.3"
  }
 },
 "nbformat": 4,
 "nbformat_minor": 4
}
