{
 "cells": [
  {
   "cell_type": "markdown",
   "metadata": {},
   "source": [
    "# WeatherPy\n",
    "\n",
    "---\n",
    "\n",
    "## Starter Code to Generate Random Geographic Coordinates and a List of Cities"
   ]
  },
  {
   "cell_type": "code",
   "execution_count": 197,
   "metadata": {
    "scrolled": true
   },
   "outputs": [],
   "source": [
    "# Dependencies and Setup\n",
    "import matplotlib.pyplot as plt\n",
    "import pandas as pd\n",
    "import numpy as np\n",
    "import requests\n",
    "import time\n",
    "from scipy.stats import linregress\n",
    "import os\n",
    "\n",
    "# Impor the OpenWeatherMap API key\n",
    "from api_keys import weather_api_key\n",
    "\n",
    "# Import citipy to determine the cities based on latitude and longitude\n",
    "from citipy import citipy"
   ]
  },
  {
   "cell_type": "markdown",
   "metadata": {},
   "source": [
    "### Generate the Cities List by Using the `citipy` Library"
   ]
  },
  {
   "cell_type": "code",
   "execution_count": 198,
   "metadata": {},
   "outputs": [
    {
     "name": "stdout",
     "output_type": "stream",
     "text": [
      "Number of cities in the list: 611\n"
     ]
    }
   ],
   "source": [
    "# Empty list for holding the latitude and longitude combinations\n",
    "lat_lngs = []\n",
    "\n",
    "# Empty list for holding the cities names\n",
    "cities = []\n",
    "\n",
    "# Range of latitudes and longitudes\n",
    "lat_range = (-90, 90)\n",
    "lng_range = (-180, 180)\n",
    "\n",
    "# Create a set of random lat and lng combinations\n",
    "lats = np.random.uniform(lat_range[0], lat_range[1], size=1500)\n",
    "lngs = np.random.uniform(lng_range[0], lng_range[1], size=1500)\n",
    "lat_lngs = zip(lats, lngs)\n",
    "\n",
    "# Identify nearest city for each lat, lng combination\n",
    "for lat_lng in lat_lngs:\n",
    "    city = citipy.nearest_city(lat_lng[0], lat_lng[1]).city_name\n",
    "    \n",
    "    # If the city is unique, then add it to a our cities list\n",
    "    if city not in cities:\n",
    "        cities.append(city)\n",
    "\n",
    "# Print the city count to confirm sufficient count\n",
    "print(f\"Number of cities in the list: {len(cities)}\")"
   ]
  },
  {
   "cell_type": "markdown",
   "metadata": {},
   "source": [
    "---"
   ]
  },
  {
   "cell_type": "markdown",
   "metadata": {},
   "source": [
    "## Requirement 1: Create Plots to Showcase the Relationship Between Weather Variables and Latitude\n",
    "\n",
    "### Use the OpenWeatherMap API to retrieve weather data from the cities list generated in the started code"
   ]
  },
  {
   "cell_type": "code",
   "execution_count": 199,
   "metadata": {},
   "outputs": [
    {
     "name": "stdout",
     "output_type": "stream",
     "text": [
      "Beginning Data Retrieval     \n",
      "-----------------------------\n",
      "Processing Record 1 of Set 1 | khed brahma\n",
      "Processing Record 2 of Set 1 | batagay-alyta\n",
      "Processing Record 3 of Set 1 | nurota\n",
      "Processing Record 4 of Set 1 | vaini\n",
      "Processing Record 5 of Set 1 | parras\n",
      "City not found. Skipping...\n",
      "Processing Record 6 of Set 1 | port alfred\n",
      "Processing Record 7 of Set 1 | pevek\n",
      "Processing Record 8 of Set 1 | tuktoyaktuk\n",
      "Processing Record 9 of Set 1 | tasiilaq\n",
      "Processing Record 10 of Set 1 | luderitz\n",
      "Processing Record 11 of Set 1 | vestmannaeyjar\n",
      "Processing Record 12 of Set 1 | butaritari\n",
      "Processing Record 13 of Set 1 | faanui\n",
      "Processing Record 14 of Set 1 | laguna\n",
      "Processing Record 15 of Set 1 | nikolskoye\n",
      "Processing Record 16 of Set 1 | saint-philippe\n",
      "Processing Record 17 of Set 1 | ushuaia\n",
      "Processing Record 18 of Set 1 | east london\n",
      "Processing Record 19 of Set 1 | albany\n",
      "Processing Record 20 of Set 1 | cherskiy\n",
      "Processing Record 21 of Set 1 | chokurdakh\n",
      "Processing Record 22 of Set 1 | provideniya\n",
      "Processing Record 23 of Set 1 | airai\n",
      "Processing Record 24 of Set 1 | channel-port aux basques\n",
      "Processing Record 25 of Set 1 | chuy\n",
      "Processing Record 26 of Set 1 | amderma\n",
      "City not found. Skipping...\n",
      "Processing Record 27 of Set 1 | jalu\n",
      "Processing Record 28 of Set 1 | rawannawi\n",
      "City not found. Skipping...\n",
      "Processing Record 29 of Set 1 | rechitsy\n",
      "Processing Record 30 of Set 1 | bengkulu\n",
      "Processing Record 31 of Set 1 | saint anthony\n",
      "Processing Record 32 of Set 1 | carnarvon\n",
      "Processing Record 33 of Set 1 | naze\n",
      "Processing Record 34 of Set 1 | mahibadhoo\n",
      "Processing Record 35 of Set 1 | hobart\n",
      "Processing Record 36 of Set 1 | sao sebastiao\n",
      "Processing Record 37 of Set 1 | caravelas\n",
      "Processing Record 38 of Set 1 | winnemucca\n",
      "Processing Record 39 of Set 1 | namatanai\n",
      "Processing Record 40 of Set 1 | kruisfontein\n",
      "Processing Record 41 of Set 1 | puerto ayora\n",
      "Processing Record 42 of Set 1 | turukhansk\n",
      "Processing Record 43 of Set 1 | ruteng\n",
      "Processing Record 44 of Set 1 | castro\n",
      "Processing Record 45 of Set 1 | marcona\n",
      "City not found. Skipping...\n",
      "Processing Record 46 of Set 1 | busselton\n",
      "Processing Record 47 of Set 1 | mataura\n",
      "Processing Record 48 of Set 1 | umm lajj\n",
      "Processing Record 49 of Set 1 | labuhan\n",
      "Processing Record 50 of Set 1 | simbahan\n",
      "Processing Record 0 of Set 2 | taltal\n",
      "Processing Record 1 of Set 2 | illoqqortoormiut\n",
      "City not found. Skipping...\n",
      "Processing Record 2 of Set 2 | winchester\n",
      "Processing Record 3 of Set 2 | rikitea\n",
      "Processing Record 4 of Set 2 | omboue\n",
      "Processing Record 5 of Set 2 | belushya guba\n",
      "City not found. Skipping...\n",
      "Processing Record 6 of Set 2 | taolanaro\n",
      "City not found. Skipping...\n",
      "Processing Record 7 of Set 2 | talara\n",
      "Processing Record 8 of Set 2 | ancud\n",
      "Processing Record 9 of Set 2 | broome\n",
      "Processing Record 10 of Set 2 | jamestown\n",
      "Processing Record 11 of Set 2 | vila velha\n",
      "Processing Record 12 of Set 2 | ippy\n",
      "Processing Record 13 of Set 2 | pangody\n",
      "Processing Record 14 of Set 2 | sibolga\n",
      "Processing Record 15 of Set 2 | bethel\n",
      "Processing Record 16 of Set 2 | severo-kurilsk\n",
      "Processing Record 17 of Set 2 | skalistyy\n",
      "City not found. Skipping...\n",
      "Processing Record 18 of Set 2 | bluff\n",
      "Processing Record 19 of Set 2 | meadow lake\n",
      "Processing Record 20 of Set 2 | turan\n",
      "Processing Record 21 of Set 2 | dikson\n",
      "Processing Record 22 of Set 2 | bilibino\n",
      "Processing Record 23 of Set 2 | gornopravdinsk\n",
      "Processing Record 24 of Set 2 | mahebourg\n",
      "Processing Record 25 of Set 2 | vila franca do campo\n",
      "Processing Record 26 of Set 2 | atuona\n",
      "Processing Record 27 of Set 2 | hermanus\n",
      "Processing Record 28 of Set 2 | fort nelson\n",
      "Processing Record 29 of Set 2 | merauke\n",
      "Processing Record 30 of Set 2 | iqaluit\n",
      "Processing Record 31 of Set 2 | porbandar\n",
      "Processing Record 32 of Set 2 | keetmanshoop\n",
      "Processing Record 33 of Set 2 | avarua\n",
      "Processing Record 34 of Set 2 | port hedland\n",
      "Processing Record 35 of Set 2 | khatanga\n",
      "Processing Record 36 of Set 2 | moramanga\n",
      "Processing Record 37 of Set 2 | arraial do cabo\n",
      "Processing Record 38 of Set 2 | tsihombe\n",
      "City not found. Skipping...\n",
      "Processing Record 39 of Set 2 | te anau\n",
      "Processing Record 40 of Set 2 | shelburne\n",
      "Processing Record 41 of Set 2 | grand river south east\n",
      "City not found. Skipping...\n",
      "Processing Record 42 of Set 2 | cayenne\n",
      "Processing Record 43 of Set 2 | kunda\n",
      "Processing Record 44 of Set 2 | falmouth\n",
      "Processing Record 45 of Set 2 | hithadhoo\n",
      "Processing Record 46 of Set 2 | kalomo\n",
      "City not found. Skipping...\n",
      "Processing Record 47 of Set 2 | kuryk\n",
      "Processing Record 48 of Set 2 | port elizabeth\n",
      "Processing Record 49 of Set 2 | tiznit\n",
      "Processing Record 0 of Set 3 | khor\n",
      "Processing Record 1 of Set 3 | pokaran\n",
      "Processing Record 2 of Set 3 | pacific grove\n",
      "Processing Record 3 of Set 3 | schwedt\n",
      "Processing Record 4 of Set 3 | iskele\n",
      "Processing Record 5 of Set 3 | lazaro cardenas\n",
      "Processing Record 6 of Set 3 | victoria\n",
      "Processing Record 7 of Set 3 | bambous virieux\n",
      "Processing Record 8 of Set 3 | cidreira\n",
      "Processing Record 9 of Set 3 | maravilha\n",
      "Processing Record 10 of Set 3 | tekeli\n",
      "Processing Record 11 of Set 3 | wangqing\n",
      "Processing Record 12 of Set 3 | souillac\n",
      "Processing Record 13 of Set 3 | port lincoln\n",
      "Processing Record 14 of Set 3 | kaitangata\n",
      "Processing Record 15 of Set 3 | punta arenas\n",
      "Processing Record 16 of Set 3 | hasaki\n",
      "Processing Record 17 of Set 3 | bereda\n",
      "Processing Record 18 of Set 3 | alofi\n",
      "Processing Record 19 of Set 3 | coquimbo\n",
      "Processing Record 20 of Set 3 | kearney\n",
      "Processing Record 21 of Set 3 | isangel\n",
      "Processing Record 22 of Set 3 | shingu\n",
      "Processing Record 23 of Set 3 | hilo\n",
      "Processing Record 24 of Set 3 | saint george\n",
      "Processing Record 25 of Set 3 | geraldton\n",
      "Processing Record 26 of Set 3 | mys shmidta\n",
      "City not found. Skipping...\n",
      "Processing Record 27 of Set 3 | bathsheba\n",
      "Processing Record 28 of Set 3 | pachino\n",
      "Processing Record 29 of Set 3 | pangnirtung\n",
      "Processing Record 30 of Set 3 | sinazongwe\n",
      "Processing Record 31 of Set 3 | xam nua\n",
      "Processing Record 32 of Set 3 | barentsburg\n",
      "City not found. Skipping...\n",
      "Processing Record 33 of Set 3 | henties bay\n",
      "Processing Record 34 of Set 3 | ransang\n",
      "Processing Record 35 of Set 3 | thompson\n",
      "Processing Record 36 of Set 3 | ribas do rio pardo\n",
      "Processing Record 37 of Set 3 | mar del plata\n",
      "Processing Record 38 of Set 3 | aksay\n",
      "Processing Record 39 of Set 3 | lagos\n",
      "Processing Record 40 of Set 3 | clyde river\n",
      "Processing Record 41 of Set 3 | pinerovka\n",
      "Processing Record 42 of Set 3 | nome\n",
      "Processing Record 43 of Set 3 | iracoubo\n",
      "Processing Record 44 of Set 3 | salalah\n",
      "Processing Record 45 of Set 3 | qaanaaq\n",
      "Processing Record 46 of Set 3 | luze\n",
      "Processing Record 47 of Set 3 | talnakh\n",
      "Processing Record 48 of Set 3 | yanji\n",
      "Processing Record 49 of Set 3 | nouadhibou\n",
      "Processing Record 0 of Set 4 | kargasok\n",
      "Processing Record 1 of Set 4 | yellowknife\n",
      "Processing Record 2 of Set 4 | inhambane\n",
      "Processing Record 3 of Set 4 | livingstonia\n",
      "Processing Record 4 of Set 4 | codrington\n",
      "Processing Record 5 of Set 4 | rolla\n",
      "Processing Record 6 of Set 4 | anqing\n",
      "Processing Record 7 of Set 4 | carbonia\n",
      "Processing Record 8 of Set 4 | avera\n",
      "Processing Record 9 of Set 4 | peniche\n",
      "Processing Record 10 of Set 4 | kodiak\n",
      "Processing Record 11 of Set 4 | palabuhanratu\n",
      "City not found. Skipping...\n",
      "Processing Record 12 of Set 4 | norman wells\n",
      "Processing Record 13 of Set 4 | burnie\n",
      "Processing Record 14 of Set 4 | parabel\n",
      "Processing Record 15 of Set 4 | the valley\n",
      "Processing Record 16 of Set 4 | tarakan\n",
      "Processing Record 17 of Set 4 | touros\n",
      "City not found. Skipping...\n",
      "Processing Record 18 of Set 4 | tiksi\n",
      "Processing Record 19 of Set 4 | shumskiy\n",
      "Processing Record 20 of Set 4 | felipe carrillo puerto\n",
      "Processing Record 21 of Set 4 | thinadhoo\n",
      "Processing Record 22 of Set 4 | buariki\n",
      "City not found. Skipping...\n",
      "Processing Record 23 of Set 4 | new norfolk\n",
      "Processing Record 24 of Set 4 | krumovgrad\n",
      "Processing Record 25 of Set 4 | bahia blanca\n",
      "Processing Record 26 of Set 4 | mutsamudu\n",
      "City not found. Skipping...\n",
      "Processing Record 27 of Set 4 | birin\n",
      "Processing Record 28 of Set 4 | lingao\n",
      "Processing Record 29 of Set 4 | okhotsk\n",
      "Processing Record 30 of Set 4 | barrow\n",
      "Processing Record 31 of Set 4 | nanortalik\n",
      "Processing Record 32 of Set 4 | concepcion del uruguay\n",
      "Processing Record 33 of Set 4 | la ronge\n",
      "Processing Record 34 of Set 4 | hirtshals\n"
     ]
    },
    {
     "name": "stdout",
     "output_type": "stream",
     "text": [
      "Processing Record 35 of Set 4 | yirol\n",
      "City not found. Skipping...\n",
      "Processing Record 36 of Set 4 | albanel\n",
      "Processing Record 37 of Set 4 | bredasdorp\n",
      "Processing Record 38 of Set 4 | shitanjing\n",
      "Processing Record 39 of Set 4 | los llanos de aridane\n",
      "Processing Record 40 of Set 4 | owando\n",
      "Processing Record 41 of Set 4 | buin\n",
      "Processing Record 42 of Set 4 | leshukonskoye\n",
      "Processing Record 43 of Set 4 | longyearbyen\n",
      "Processing Record 44 of Set 4 | bonavista\n",
      "Processing Record 45 of Set 4 | vaitupu\n",
      "City not found. Skipping...\n",
      "Processing Record 46 of Set 4 | eyl\n",
      "Processing Record 47 of Set 4 | hambantota\n",
      "Processing Record 48 of Set 4 | lolua\n",
      "City not found. Skipping...\n",
      "Processing Record 49 of Set 4 | matara\n",
      "Processing Record 0 of Set 5 | asbestos\n",
      "Processing Record 1 of Set 5 | ribeira grande\n",
      "Processing Record 2 of Set 5 | kapaa\n",
      "Processing Record 3 of Set 5 | mehamn\n",
      "Processing Record 4 of Set 5 | cape town\n",
      "Processing Record 5 of Set 5 | saldanha\n",
      "Processing Record 6 of Set 5 | wageningen\n",
      "Processing Record 7 of Set 5 | latung\n",
      "Processing Record 8 of Set 5 | mullaitivu\n",
      "City not found. Skipping...\n",
      "Processing Record 9 of Set 5 | kamyshevatskaya\n",
      "Processing Record 10 of Set 5 | lompoc\n",
      "Processing Record 11 of Set 5 | severodvinsk\n",
      "Processing Record 12 of Set 5 | andenes\n",
      "Processing Record 13 of Set 5 | san patricio\n",
      "Processing Record 14 of Set 5 | cetraro\n",
      "Processing Record 15 of Set 5 | poum\n",
      "Processing Record 16 of Set 5 | panacan\n",
      "Processing Record 17 of Set 5 | varna\n",
      "Processing Record 18 of Set 5 | strezhevoy\n",
      "Processing Record 19 of Set 5 | kuito\n",
      "Processing Record 20 of Set 5 | parrita\n",
      "Processing Record 21 of Set 5 | ondorhaan\n",
      "City not found. Skipping...\n",
      "Processing Record 22 of Set 5 | narsaq\n",
      "Processing Record 23 of Set 5 | solovetskiy\n",
      "City not found. Skipping...\n",
      "Processing Record 24 of Set 5 | tsumeb\n",
      "Processing Record 25 of Set 5 | lebu\n",
      "Processing Record 26 of Set 5 | aojiang\n",
      "Processing Record 27 of Set 5 | ponta do sol\n",
      "Processing Record 28 of Set 5 | georgetown\n",
      "Processing Record 29 of Set 5 | yarada\n",
      "Processing Record 30 of Set 5 | huarmey\n",
      "Processing Record 31 of Set 5 | upernavik\n",
      "Processing Record 32 of Set 5 | camopi\n",
      "Processing Record 33 of Set 5 | port macquarie\n",
      "Processing Record 34 of Set 5 | kuusamo\n",
      "Processing Record 35 of Set 5 | cabedelo\n",
      "Processing Record 36 of Set 5 | haibowan\n",
      "City not found. Skipping...\n",
      "Processing Record 37 of Set 5 | tabuk\n",
      "Processing Record 38 of Set 5 | saint leonard\n",
      "Processing Record 39 of Set 5 | sola\n",
      "Processing Record 40 of Set 5 | vanavara\n",
      "Processing Record 41 of Set 5 | rajampet\n",
      "Processing Record 42 of Set 5 | xapuri\n",
      "Processing Record 43 of Set 5 | georgiyevskoye\n",
      "Processing Record 44 of Set 5 | yeppoon\n",
      "Processing Record 45 of Set 5 | nishihara\n",
      "Processing Record 46 of Set 5 | vrangel\n",
      "Processing Record 47 of Set 5 | sorvag\n",
      "City not found. Skipping...\n",
      "Processing Record 48 of Set 5 | moulmeingyun\n",
      "City not found. Skipping...\n",
      "Processing Record 49 of Set 5 | beira\n",
      "Processing Record 0 of Set 6 | kevermes\n",
      "Processing Record 1 of Set 6 | yeniseysk\n",
      "Processing Record 2 of Set 6 | christchurch\n",
      "Processing Record 3 of Set 6 | ulladulla\n",
      "Processing Record 4 of Set 6 | fort saint john\n",
      "City not found. Skipping...\n",
      "Processing Record 5 of Set 6 | constitucion\n",
      "Processing Record 6 of Set 6 | tilichiki\n",
      "Processing Record 7 of Set 6 | galle\n",
      "Processing Record 8 of Set 6 | qianguo\n",
      "Processing Record 9 of Set 6 | walvis bay\n",
      "Processing Record 10 of Set 6 | fortuna\n",
      "Processing Record 11 of Set 6 | kibre mengist\n",
      "Processing Record 12 of Set 6 | torbay\n",
      "Processing Record 13 of Set 6 | sidi qasim\n",
      "City not found. Skipping...\n",
      "Processing Record 14 of Set 6 | tarnobrzeg\n",
      "Processing Record 15 of Set 6 | key west\n",
      "Processing Record 16 of Set 6 | baykit\n",
      "Processing Record 17 of Set 6 | satitoa\n",
      "City not found. Skipping...\n",
      "Processing Record 18 of Set 6 | quatre cocos\n",
      "Processing Record 19 of Set 6 | qasigiannguit\n",
      "Processing Record 20 of Set 6 | lewisville\n",
      "Processing Record 21 of Set 6 | beachwood\n",
      "Processing Record 22 of Set 6 | panama city\n",
      "Processing Record 23 of Set 6 | sao joao da barra\n",
      "Processing Record 24 of Set 6 | olga\n",
      "Processing Record 25 of Set 6 | banmo\n",
      "City not found. Skipping...\n",
      "Processing Record 26 of Set 6 | gushi\n",
      "Processing Record 27 of Set 6 | goderich\n",
      "Processing Record 28 of Set 6 | egvekinot\n",
      "Processing Record 29 of Set 6 | lagoa\n",
      "Processing Record 30 of Set 6 | villa carlos paz\n",
      "Processing Record 31 of Set 6 | altay\n",
      "Processing Record 32 of Set 6 | paamiut\n",
      "Processing Record 33 of Set 6 | banda aceh\n",
      "Processing Record 34 of Set 6 | college\n",
      "Processing Record 35 of Set 6 | tiarei\n",
      "Processing Record 36 of Set 6 | ilulissat\n",
      "Processing Record 37 of Set 6 | guerrero negro\n",
      "Processing Record 38 of Set 6 | brae\n",
      "Processing Record 39 of Set 6 | jurm\n",
      "Processing Record 40 of Set 6 | nikolayevsk-na-amure\n",
      "Processing Record 41 of Set 6 | mineral wells\n",
      "Processing Record 42 of Set 6 | trikerion\n",
      "City not found. Skipping...\n",
      "Processing Record 43 of Set 6 | liuzhou\n",
      "Processing Record 44 of Set 6 | pombas\n",
      "Processing Record 45 of Set 6 | maldonado\n",
      "Processing Record 46 of Set 6 | cockburn town\n",
      "Processing Record 47 of Set 6 | zachagansk\n",
      "City not found. Skipping...\n",
      "Processing Record 48 of Set 6 | gat\n",
      "Processing Record 49 of Set 6 | mount isa\n",
      "Processing Record 0 of Set 7 | ibia\n",
      "Processing Record 1 of Set 7 | karatau\n",
      "Processing Record 2 of Set 7 | ambilobe\n",
      "Processing Record 3 of Set 7 | tyulyachi\n",
      "Processing Record 4 of Set 7 | saleaula\n",
      "City not found. Skipping...\n",
      "Processing Record 5 of Set 7 | tabiauea\n",
      "City not found. Skipping...\n",
      "Processing Record 6 of Set 7 | niquero\n",
      "Processing Record 7 of Set 7 | borama\n",
      "City not found. Skipping...\n",
      "Processing Record 8 of Set 7 | inirida\n",
      "Processing Record 9 of Set 7 | phuket\n",
      "Processing Record 10 of Set 7 | truro\n",
      "Processing Record 11 of Set 7 | coihaique\n",
      "Processing Record 12 of Set 7 | novyy urengoy\n",
      "Processing Record 13 of Set 7 | maraa\n",
      "Processing Record 14 of Set 7 | ko samui\n",
      "Processing Record 15 of Set 7 | viedma\n",
      "Processing Record 16 of Set 7 | katsuura\n",
      "Processing Record 17 of Set 7 | puerto baquerizo moreno\n",
      "Processing Record 18 of Set 7 | ouadda\n",
      "Processing Record 19 of Set 7 | kitaibaraki\n",
      "Processing Record 20 of Set 7 | sabana grande\n",
      "Processing Record 21 of Set 7 | karkaralinsk\n",
      "City not found. Skipping...\n",
      "Processing Record 22 of Set 7 | haines junction\n",
      "Processing Record 23 of Set 7 | san juan\n",
      "Processing Record 24 of Set 7 | boundiali\n",
      "Processing Record 25 of Set 7 | milledgeville\n",
      "Processing Record 26 of Set 7 | vostok\n",
      "Processing Record 27 of Set 7 | kihurio\n",
      "Processing Record 28 of Set 7 | imeni poliny osipenko\n",
      "Processing Record 29 of Set 7 | ballina\n",
      "Processing Record 30 of Set 7 | yuma\n",
      "Processing Record 31 of Set 7 | zhigansk\n",
      "Processing Record 32 of Set 7 | kiunga\n",
      "Processing Record 33 of Set 7 | kushiro\n",
      "Processing Record 34 of Set 7 | bernalda\n",
      "Processing Record 35 of Set 7 | flin flon\n",
      "Processing Record 36 of Set 7 | whitehorse\n",
      "Processing Record 37 of Set 7 | srednekolymsk\n",
      "Processing Record 38 of Set 7 | novobiryusinskiy\n",
      "Processing Record 39 of Set 7 | santa rosa\n",
      "Processing Record 40 of Set 7 | ostersund\n",
      "Processing Record 41 of Set 7 | hobyo\n",
      "Processing Record 42 of Set 7 | aporawan\n",
      "City not found. Skipping...\n",
      "Processing Record 43 of Set 7 | lata\n",
      "Processing Record 44 of Set 7 | jumla\n",
      "Processing Record 45 of Set 7 | oakdale\n",
      "Processing Record 46 of Set 7 | kahului\n",
      "Processing Record 47 of Set 7 | olafsvik\n",
      "Processing Record 48 of Set 7 | ugoofaaru\n",
      "Processing Record 49 of Set 7 | artyom\n",
      "Processing Record 0 of Set 8 | cracow\n",
      "Processing Record 1 of Set 8 | cabo san lucas\n",
      "Processing Record 2 of Set 8 | mookane\n",
      "Processing Record 3 of Set 8 | kamaishi\n",
      "Processing Record 4 of Set 8 | marathon\n",
      "Processing Record 5 of Set 8 | shakawe\n",
      "Processing Record 6 of Set 8 | asau\n",
      "Processing Record 7 of Set 8 | obo\n",
      "Processing Record 8 of Set 8 | sentyabrskiy\n",
      "City not found. Skipping...\n",
      "Processing Record 9 of Set 8 | tevaitoa\n",
      "Processing Record 10 of Set 8 | uray\n",
      "Processing Record 11 of Set 8 | yar-sale\n",
      "Processing Record 12 of Set 8 | lerwick\n",
      "Processing Record 13 of Set 8 | mwanza\n",
      "Processing Record 14 of Set 8 | sistranda\n",
      "Processing Record 15 of Set 8 | tommot\n",
      "Processing Record 16 of Set 8 | alghero\n",
      "Processing Record 17 of Set 8 | qeshm\n",
      "Processing Record 18 of Set 8 | eskil\n",
      "Processing Record 19 of Set 8 | kavieng\n"
     ]
    },
    {
     "name": "stdout",
     "output_type": "stream",
     "text": [
      "Processing Record 20 of Set 8 | vidim\n",
      "Processing Record 21 of Set 8 | roald\n",
      "Processing Record 22 of Set 8 | rapid valley\n",
      "Processing Record 23 of Set 8 | saint-joseph\n",
      "Processing Record 24 of Set 8 | betma\n",
      "Processing Record 25 of Set 8 | port-gentil\n",
      "Processing Record 26 of Set 8 | jimenez\n",
      "Processing Record 27 of Set 8 | konevo\n",
      "Processing Record 28 of Set 8 | tuggurt\n",
      "City not found. Skipping...\n",
      "Processing Record 29 of Set 8 | trelew\n",
      "Processing Record 30 of Set 8 | novo cruzeiro\n",
      "Processing Record 31 of Set 8 | lavrentiya\n",
      "Processing Record 32 of Set 8 | ucluelet\n",
      "Processing Record 33 of Set 8 | birjand\n",
      "Processing Record 34 of Set 8 | muros\n",
      "Processing Record 35 of Set 8 | atamanskaya\n",
      "Processing Record 36 of Set 8 | megion\n",
      "Processing Record 37 of Set 8 | oranjemund\n",
      "Processing Record 38 of Set 8 | verkhoyansk\n",
      "Processing Record 39 of Set 8 | nuuk\n",
      "Processing Record 40 of Set 8 | llangefni\n",
      "Processing Record 41 of Set 8 | ravar\n",
      "Processing Record 42 of Set 8 | luwuk\n",
      "Processing Record 43 of Set 8 | hami\n",
      "Processing Record 44 of Set 8 | saskylakh\n",
      "Processing Record 45 of Set 8 | margate\n",
      "Processing Record 46 of Set 8 | elizabeth city\n",
      "Processing Record 47 of Set 8 | samut sakhon\n",
      "Processing Record 48 of Set 8 | tumannyy\n",
      "City not found. Skipping...\n",
      "Processing Record 49 of Set 8 | meulaboh\n",
      "Processing Record 0 of Set 9 | sabancuy\n",
      "Processing Record 1 of Set 9 | bayonne\n",
      "Processing Record 2 of Set 9 | mount gambier\n",
      "Processing Record 3 of Set 9 | elat\n",
      "Processing Record 4 of Set 9 | attawapiskat\n",
      "City not found. Skipping...\n",
      "Processing Record 5 of Set 9 | sao miguel do araguaia\n",
      "Processing Record 6 of Set 9 | sitka\n",
      "Processing Record 7 of Set 9 | giyon\n",
      "Processing Record 8 of Set 9 | anadyr\n",
      "Processing Record 9 of Set 9 | pafos\n",
      "Processing Record 10 of Set 9 | hamilton\n",
      "Processing Record 11 of Set 9 | ventspils\n",
      "Processing Record 12 of Set 9 | sinnamary\n",
      "Processing Record 13 of Set 9 | piacabucu\n",
      "Processing Record 14 of Set 9 | sept-iles\n",
      "Processing Record 15 of Set 9 | kachikau\n",
      "City not found. Skipping...\n",
      "Processing Record 16 of Set 9 | novyy chirkey\n",
      "Processing Record 17 of Set 9 | paradwip\n",
      "City not found. Skipping...\n",
      "Processing Record 18 of Set 9 | purpe\n",
      "Processing Record 19 of Set 9 | broken hill\n",
      "Processing Record 20 of Set 9 | yuzhno-yeniseyskiy\n",
      "City not found. Skipping...\n",
      "Processing Record 21 of Set 9 | byron bay\n",
      "Processing Record 22 of Set 9 | maniitsoq\n",
      "Processing Record 23 of Set 9 | abancay\n",
      "Processing Record 24 of Set 9 | vao\n",
      "Processing Record 25 of Set 9 | stuttgart\n",
      "Processing Record 26 of Set 9 | chitral\n",
      "Processing Record 27 of Set 9 | fairbanks\n",
      "Processing Record 28 of Set 9 | simpang\n",
      "Processing Record 29 of Set 9 | kieta\n",
      "Processing Record 30 of Set 9 | rawson\n",
      "Processing Record 31 of Set 9 | stantsionno-oyashinskiy\n",
      "Processing Record 32 of Set 9 | luneville\n",
      "Processing Record 33 of Set 9 | kamenka\n",
      "Processing Record 34 of Set 9 | beloha\n",
      "Processing Record 35 of Set 9 | tabursuq\n",
      "Processing Record 36 of Set 9 | yumen\n",
      "Processing Record 37 of Set 9 | arica\n",
      "Processing Record 38 of Set 9 | odesskoye\n",
      "Processing Record 39 of Set 9 | rungata\n",
      "City not found. Skipping...\n",
      "Processing Record 40 of Set 9 | kupang\n",
      "Processing Record 41 of Set 9 | russell\n",
      "Processing Record 42 of Set 9 | chikoy\n",
      "City not found. Skipping...\n",
      "Processing Record 43 of Set 9 | kuji\n",
      "Processing Record 44 of Set 9 | san ramon\n",
      "Processing Record 45 of Set 9 | grindavik\n",
      "Processing Record 46 of Set 9 | borlange\n",
      "City not found. Skipping...\n",
      "Processing Record 47 of Set 9 | smithers\n",
      "Processing Record 48 of Set 9 | gamba\n",
      "Processing Record 49 of Set 9 | weligama\n",
      "Processing Record 0 of Set 10 | del rio\n",
      "Processing Record 1 of Set 10 | esperance\n",
      "Processing Record 2 of Set 10 | maunatlala\n",
      "Processing Record 3 of Set 10 | kautokeino\n",
      "Processing Record 4 of Set 10 | poso\n",
      "Processing Record 5 of Set 10 | palmer\n",
      "Processing Record 6 of Set 10 | northam\n",
      "Processing Record 7 of Set 10 | ostrovnoy\n",
      "Processing Record 8 of Set 10 | miles city\n",
      "Processing Record 9 of Set 10 | samusu\n",
      "City not found. Skipping...\n",
      "Processing Record 10 of Set 10 | angoche\n",
      "Processing Record 11 of Set 10 | chifeng\n",
      "Processing Record 12 of Set 10 | le port\n",
      "Processing Record 13 of Set 10 | concepcion del oro\n",
      "Processing Record 14 of Set 10 | tacuarembo\n",
      "Processing Record 15 of Set 10 | dzheyrakh\n",
      "Processing Record 16 of Set 10 | new waterford\n",
      "Processing Record 17 of Set 10 | kazalinsk\n",
      "City not found. Skipping...\n",
      "Processing Record 18 of Set 10 | zhelyabovka\n",
      "Processing Record 19 of Set 10 | shaowu\n",
      "Processing Record 20 of Set 10 | kemijarvi\n",
      "Processing Record 21 of Set 10 | taga\n",
      "Processing Record 22 of Set 10 | terracina\n",
      "Processing Record 23 of Set 10 | kapit\n",
      "Processing Record 24 of Set 10 | flinders\n",
      "Processing Record 25 of Set 10 | khash\n",
      "Processing Record 26 of Set 10 | saint-augustin\n",
      "Processing Record 27 of Set 10 | nyurba\n",
      "Processing Record 28 of Set 10 | pangkalanbuun\n",
      "Processing Record 29 of Set 10 | saeby\n",
      "Processing Record 30 of Set 10 | kavaratti\n",
      "Processing Record 31 of Set 10 | tunoshna\n",
      "Processing Record 32 of Set 10 | hervey bay\n",
      "Processing Record 33 of Set 10 | marzuq\n",
      "Processing Record 34 of Set 10 | buraydah\n",
      "Processing Record 35 of Set 10 | iquique\n",
      "Processing Record 36 of Set 10 | state college\n",
      "Processing Record 37 of Set 10 | ngukurr\n",
      "City not found. Skipping...\n",
      "Processing Record 38 of Set 10 | aseri\n",
      "Processing Record 39 of Set 10 | lorengau\n",
      "Processing Record 40 of Set 10 | sao filipe\n",
      "Processing Record 41 of Set 10 | koslan\n",
      "Processing Record 42 of Set 10 | graciano sanchez\n",
      "Processing Record 43 of Set 10 | kaniama\n",
      "Processing Record 44 of Set 10 | annau\n",
      "Processing Record 45 of Set 10 | pimentel\n",
      "Processing Record 46 of Set 10 | murgab\n",
      "Processing Record 47 of Set 10 | essau\n",
      "Processing Record 48 of Set 10 | nicolas bravo\n",
      "Processing Record 49 of Set 10 | aasiaat\n",
      "Processing Record 0 of Set 11 | mattawa\n",
      "Processing Record 1 of Set 11 | sahrak\n",
      "City not found. Skipping...\n",
      "Processing Record 2 of Set 11 | vardo\n",
      "Processing Record 3 of Set 11 | ciudad bolivar\n",
      "Processing Record 4 of Set 11 | port moresby\n",
      "Processing Record 5 of Set 11 | kiomboi\n",
      "Processing Record 6 of Set 11 | meyungs\n",
      "City not found. Skipping...\n",
      "Processing Record 7 of Set 11 | pisco\n",
      "Processing Record 8 of Set 11 | bengkalis\n",
      "City not found. Skipping...\n",
      "Processing Record 9 of Set 11 | tapejara\n",
      "Processing Record 10 of Set 11 | darhan\n",
      "Processing Record 11 of Set 11 | itarema\n",
      "Processing Record 12 of Set 11 | ilinsko-podomskoye\n",
      "City not found. Skipping...\n",
      "Processing Record 13 of Set 11 | kyaikkami\n",
      "Processing Record 14 of Set 11 | balykshi\n",
      "Processing Record 15 of Set 11 | peterlee\n",
      "Processing Record 16 of Set 11 | alvorada\n",
      "Processing Record 17 of Set 11 | arklow\n",
      "Processing Record 18 of Set 11 | luancheng\n",
      "Processing Record 19 of Set 11 | half moon bay\n",
      "Processing Record 20 of Set 11 | san quintin\n",
      "Processing Record 21 of Set 11 | mouila\n",
      "Processing Record 22 of Set 11 | menongue\n",
      "Processing Record 23 of Set 11 | buala\n",
      "Processing Record 24 of Set 11 | inhumas\n",
      "Processing Record 25 of Set 11 | saint-pierre\n",
      "Processing Record 26 of Set 11 | gerede\n",
      "Processing Record 27 of Set 11 | beringovskiy\n",
      "Processing Record 28 of Set 11 | eureka\n",
      "Processing Record 29 of Set 11 | ekhabi\n",
      "Processing Record 30 of Set 11 | kawana waters\n",
      "City not found. Skipping...\n",
      "Processing Record 31 of Set 11 | gweru\n",
      "Processing Record 32 of Set 11 | folldal\n",
      "Processing Record 33 of Set 11 | cobija\n",
      "Processing Record 34 of Set 11 | secunda\n",
      "Processing Record 35 of Set 11 | pokrovsk-uralskiy\n",
      "City not found. Skipping...\n",
      "Processing Record 36 of Set 11 | aklavik\n",
      "Processing Record 37 of Set 11 | amuntai\n",
      "Processing Record 38 of Set 11 | toliary\n",
      "City not found. Skipping...\n",
      "Processing Record 39 of Set 11 | atherton\n",
      "Processing Record 40 of Set 11 | suzun\n",
      "Processing Record 41 of Set 11 | tuatapere\n",
      "Processing Record 42 of Set 11 | nouakchott\n",
      "Processing Record 43 of Set 11 | kharar\n",
      "Processing Record 44 of Set 11 | umzimvubu\n",
      "City not found. Skipping...\n",
      "Processing Record 45 of Set 11 | fiumicino\n",
      "Processing Record 46 of Set 11 | hovd\n",
      "Processing Record 47 of Set 11 | watertown\n",
      "Processing Record 48 of Set 11 | westport\n",
      "Processing Record 49 of Set 11 | kulhudhuffushi\n",
      "Processing Record 0 of Set 12 | dubbo\n",
      "Processing Record 1 of Set 12 | maamba\n",
      "Processing Record 2 of Set 12 | klaksvik\n",
      "Processing Record 3 of Set 12 | sioux lookout\n"
     ]
    },
    {
     "name": "stdout",
     "output_type": "stream",
     "text": [
      "Processing Record 4 of Set 12 | humaita\n",
      "Processing Record 5 of Set 12 | marsa matruh\n",
      "Processing Record 6 of Set 12 | ondjiva\n",
      "Processing Record 7 of Set 12 | antalaha\n",
      "Processing Record 8 of Set 12 | leningradskiy\n",
      "Processing Record 9 of Set 12 | marsh harbour\n",
      "Processing Record 10 of Set 12 | warqla\n",
      "City not found. Skipping...\n",
      "Processing Record 11 of Set 12 | bandarbeyla\n",
      "Processing Record 12 of Set 12 | mackenzie\n",
      "Processing Record 13 of Set 12 | berlevag\n",
      "Processing Record 14 of Set 12 | requena\n",
      "Processing Record 15 of Set 12 | ouesso\n",
      "Processing Record 16 of Set 12 | nichinan\n",
      "Processing Record 17 of Set 12 | alice springs\n",
      "Processing Record 18 of Set 12 | pochutla\n",
      "Processing Record 19 of Set 12 | kumphawapi\n",
      "Processing Record 20 of Set 12 | srandakan\n",
      "Processing Record 21 of Set 12 | kadaya\n",
      "Processing Record 22 of Set 12 | sumbawa\n",
      "City not found. Skipping...\n",
      "Processing Record 23 of Set 12 | juneau\n",
      "Processing Record 24 of Set 12 | kozhva\n",
      "Processing Record 25 of Set 12 | harper\n",
      "Processing Record 26 of Set 12 | sainte-marie\n",
      "Processing Record 27 of Set 12 | catalao\n",
      "Processing Record 28 of Set 12 | baruun-urt\n",
      "Processing Record 29 of Set 12 | tadine\n",
      "Processing Record 30 of Set 12 | vanderhoof\n",
      "Processing Record 31 of Set 12 | san rafael\n",
      "Processing Record 32 of Set 12 | tazovskiy\n",
      "Processing Record 33 of Set 12 | yulara\n",
      "Processing Record 34 of Set 12 | jha jha\n",
      "Processing Record 35 of Set 12 | ahuimanu\n",
      "Processing Record 36 of Set 12 | bajil\n",
      "Processing Record 37 of Set 12 | hofn\n",
      "Processing Record 38 of Set 12 | bolshoye sorokino\n",
      "City not found. Skipping...\n",
      "Processing Record 39 of Set 12 | aden\n",
      "Processing Record 40 of Set 12 | natalio\n",
      "Processing Record 41 of Set 12 | standerton\n",
      "Processing Record 42 of Set 12 | cangzhou\n",
      "Processing Record 43 of Set 12 | aloleng\n",
      "Processing Record 44 of Set 12 | esil\n",
      "Processing Record 45 of Set 12 | healdsburg\n",
      "Processing Record 46 of Set 12 | karlstad\n",
      "Processing Record 47 of Set 12 | sungairaya\n",
      "Processing Record 48 of Set 12 | hammerfest\n",
      "Processing Record 49 of Set 12 | dolbeau\n",
      "City not found. Skipping...\n",
      "Processing Record 0 of Set 13 | ahipara\n",
      "Processing Record 1 of Set 13 | caracoli\n",
      "Processing Record 2 of Set 13 | luanda\n",
      "Processing Record 3 of Set 13 | taoudenni\n",
      "Processing Record 4 of Set 13 | tautira\n",
      "Processing Record 5 of Set 13 | mahajanga\n",
      "Processing Record 6 of Set 13 | suriapet\n",
      "Processing Record 7 of Set 13 | honiara\n",
      "Processing Record 8 of Set 13 | puerto quijarro\n",
      "Processing Record 9 of Set 13 | sakakah\n",
      "Processing Record 10 of Set 13 | muli\n",
      "-----------------------------\n",
      "Data Retrieval Complete      \n",
      "-----------------------------\n"
     ]
    }
   ],
   "source": [
    "# Set the API base URL\n",
    "url = \"https://api.openweathermap.org\"\n",
    "\n",
    "# Define an empty list to fetch the weather data for each city\n",
    "city_data = []\n",
    "\n",
    "# Print to logger\n",
    "print(\"Beginning Data Retrieval     \")\n",
    "print(\"-----------------------------\")\n",
    "\n",
    "# Create counters\n",
    "record_count = 1\n",
    "set_count = 1\n",
    "\n",
    "# Loop through all the cities in our list to fetch weather data\n",
    "for i, city in enumerate(cities):\n",
    "        \n",
    "    # Group cities in sets of 50 for logging purposes\n",
    "    if (i % 50 == 0 and i >= 50):\n",
    "        set_count += 1\n",
    "        record_count = 0\n",
    "\n",
    "    # Create endpoint URL with each city\n",
    "    city_url = url + f\"/data/2.5/weather?q={city}&APPID={weather_api_key}\"\n",
    "    \n",
    "    # Log the url, record, and set numbers\n",
    "    print(\"Processing Record %s of Set %s | %s\" % (record_count, set_count, city))\n",
    "\n",
    "    # Add 1 to the record count\n",
    "    record_count += 1\n",
    "\n",
    "    # Run an API request for each of the cities\n",
    "    try:\n",
    "        # Parse the JSON and retrieve data\n",
    "        city_weather = requests.get(city_url).json()\n",
    "        # print(json.dumps(city_weather, indent=4, sort_keys=True))\n",
    "        \n",
    "        # Parse out latitude, longitude, max temp, humidity, cloudiness, wind speed, country, and date\n",
    "        city_lat = city_weather[\"coord\"][\"lat\"]\n",
    "        city_lng = city_weather[\"coord\"][\"lon\"]\n",
    "        city_max_temp = city_weather['main']['temp_max']\n",
    "        city_humidity = city_weather['main']['humidity']\n",
    "        city_clouds = city_weather['clouds']['all']\n",
    "        city_wind = city_weather['wind']['speed']\n",
    "        city_country = city_weather['sys']['country']\n",
    "        city_date = city_weather['dt']\n",
    "\n",
    "        # Append the City information into city_data list\n",
    "        city_data.append({\"City\": city, \n",
    "                          \"Lat\": city_lat, \n",
    "                          \"Lng\": city_lng, \n",
    "                          \"Max Temp\": city_max_temp,\n",
    "                          \"Humidity\": city_humidity,\n",
    "                          \"Cloudiness\": city_clouds,\n",
    "                          \"Wind Speed\": city_wind,\n",
    "                          \"Country\": city_country,\n",
    "                          \"Date\": city_date})\n",
    "\n",
    "    # If an error is experienced, skip the city\n",
    "    except:\n",
    "        print(\"City not found. Skipping...\")\n",
    "        pass\n",
    "              \n",
    "# Indicate that Data Loading is complete \n",
    "print(\"-----------------------------\")\n",
    "print(\"Data Retrieval Complete      \")\n",
    "print(\"-----------------------------\")"
   ]
  },
  {
   "cell_type": "code",
   "execution_count": 200,
   "metadata": {},
   "outputs": [
    {
     "data": {
      "text/plain": [
       "City          549\n",
       "Lat           549\n",
       "Lng           549\n",
       "Max Temp      549\n",
       "Humidity      549\n",
       "Cloudiness    549\n",
       "Wind Speed    549\n",
       "Country       549\n",
       "Date          549\n",
       "dtype: int64"
      ]
     },
     "execution_count": 200,
     "metadata": {},
     "output_type": "execute_result"
    }
   ],
   "source": [
    "# Convert the cities weather data into a Pandas DataFrame\n",
    "city_data_df = pd.DataFrame(city_data)\n",
    "# Show Record Count\n",
    "city_data_df.count()"
   ]
  },
  {
   "cell_type": "code",
   "execution_count": 201,
   "metadata": {},
   "outputs": [
    {
     "data": {
      "text/html": [
       "<div>\n",
       "<style scoped>\n",
       "    .dataframe tbody tr th:only-of-type {\n",
       "        vertical-align: middle;\n",
       "    }\n",
       "\n",
       "    .dataframe tbody tr th {\n",
       "        vertical-align: top;\n",
       "    }\n",
       "\n",
       "    .dataframe thead th {\n",
       "        text-align: right;\n",
       "    }\n",
       "</style>\n",
       "<table border=\"1\" class=\"dataframe\">\n",
       "  <thead>\n",
       "    <tr style=\"text-align: right;\">\n",
       "      <th></th>\n",
       "      <th>City</th>\n",
       "      <th>Lat</th>\n",
       "      <th>Lng</th>\n",
       "      <th>Max Temp</th>\n",
       "      <th>Humidity</th>\n",
       "      <th>Cloudiness</th>\n",
       "      <th>Wind Speed</th>\n",
       "      <th>Country</th>\n",
       "      <th>Date</th>\n",
       "    </tr>\n",
       "  </thead>\n",
       "  <tbody>\n",
       "    <tr>\n",
       "      <th>0</th>\n",
       "      <td>khed brahma</td>\n",
       "      <td>24.0333</td>\n",
       "      <td>73.0500</td>\n",
       "      <td>300.07</td>\n",
       "      <td>33</td>\n",
       "      <td>98</td>\n",
       "      <td>0.62</td>\n",
       "      <td>IN</td>\n",
       "      <td>1681415572</td>\n",
       "    </tr>\n",
       "    <tr>\n",
       "      <th>1</th>\n",
       "      <td>batagay-alyta</td>\n",
       "      <td>67.8006</td>\n",
       "      <td>130.4114</td>\n",
       "      <td>255.22</td>\n",
       "      <td>91</td>\n",
       "      <td>99</td>\n",
       "      <td>1.83</td>\n",
       "      <td>RU</td>\n",
       "      <td>1681415573</td>\n",
       "    </tr>\n",
       "    <tr>\n",
       "      <th>2</th>\n",
       "      <td>nurota</td>\n",
       "      <td>40.5614</td>\n",
       "      <td>65.6886</td>\n",
       "      <td>299.46</td>\n",
       "      <td>19</td>\n",
       "      <td>100</td>\n",
       "      <td>7.05</td>\n",
       "      <td>UZ</td>\n",
       "      <td>1681415573</td>\n",
       "    </tr>\n",
       "    <tr>\n",
       "      <th>3</th>\n",
       "      <td>vaini</td>\n",
       "      <td>-21.2000</td>\n",
       "      <td>-175.2000</td>\n",
       "      <td>299.24</td>\n",
       "      <td>83</td>\n",
       "      <td>20</td>\n",
       "      <td>3.09</td>\n",
       "      <td>TO</td>\n",
       "      <td>1681415135</td>\n",
       "    </tr>\n",
       "    <tr>\n",
       "      <th>4</th>\n",
       "      <td>port alfred</td>\n",
       "      <td>-33.5906</td>\n",
       "      <td>26.8910</td>\n",
       "      <td>288.25</td>\n",
       "      <td>92</td>\n",
       "      <td>14</td>\n",
       "      <td>0.45</td>\n",
       "      <td>ZA</td>\n",
       "      <td>1681415142</td>\n",
       "    </tr>\n",
       "  </tbody>\n",
       "</table>\n",
       "</div>"
      ],
      "text/plain": [
       "            City      Lat       Lng  Max Temp  Humidity  Cloudiness  \\\n",
       "0    khed brahma  24.0333   73.0500    300.07        33          98   \n",
       "1  batagay-alyta  67.8006  130.4114    255.22        91          99   \n",
       "2         nurota  40.5614   65.6886    299.46        19         100   \n",
       "3          vaini -21.2000 -175.2000    299.24        83          20   \n",
       "4    port alfred -33.5906   26.8910    288.25        92          14   \n",
       "\n",
       "   Wind Speed Country        Date  \n",
       "0        0.62      IN  1681415572  \n",
       "1        1.83      RU  1681415573  \n",
       "2        7.05      UZ  1681415573  \n",
       "3        3.09      TO  1681415135  \n",
       "4        0.45      ZA  1681415142  "
      ]
     },
     "execution_count": 201,
     "metadata": {},
     "output_type": "execute_result"
    }
   ],
   "source": [
    "# Display sample data\n",
    "city_data_df.head()"
   ]
  },
  {
   "cell_type": "code",
   "execution_count": 202,
   "metadata": {},
   "outputs": [
    {
     "data": {
      "text/html": [
       "<div>\n",
       "<style scoped>\n",
       "    .dataframe tbody tr th:only-of-type {\n",
       "        vertical-align: middle;\n",
       "    }\n",
       "\n",
       "    .dataframe tbody tr th {\n",
       "        vertical-align: top;\n",
       "    }\n",
       "\n",
       "    .dataframe thead th {\n",
       "        text-align: right;\n",
       "    }\n",
       "</style>\n",
       "<table border=\"1\" class=\"dataframe\">\n",
       "  <thead>\n",
       "    <tr style=\"text-align: right;\">\n",
       "      <th></th>\n",
       "      <th>City</th>\n",
       "      <th>Lat</th>\n",
       "      <th>Lng</th>\n",
       "      <th>Max Temp</th>\n",
       "      <th>Humidity</th>\n",
       "      <th>Cloudiness</th>\n",
       "      <th>Wind Speed</th>\n",
       "      <th>Country</th>\n",
       "      <th>Date</th>\n",
       "    </tr>\n",
       "  </thead>\n",
       "  <tbody>\n",
       "    <tr>\n",
       "      <th>0</th>\n",
       "      <td>khed brahma</td>\n",
       "      <td>24.0333</td>\n",
       "      <td>73.0500</td>\n",
       "      <td>26.92</td>\n",
       "      <td>33</td>\n",
       "      <td>98</td>\n",
       "      <td>0.62</td>\n",
       "      <td>IN</td>\n",
       "      <td>1681415572</td>\n",
       "    </tr>\n",
       "    <tr>\n",
       "      <th>1</th>\n",
       "      <td>batagay-alyta</td>\n",
       "      <td>67.8006</td>\n",
       "      <td>130.4114</td>\n",
       "      <td>-17.93</td>\n",
       "      <td>91</td>\n",
       "      <td>99</td>\n",
       "      <td>1.83</td>\n",
       "      <td>RU</td>\n",
       "      <td>1681415573</td>\n",
       "    </tr>\n",
       "    <tr>\n",
       "      <th>2</th>\n",
       "      <td>nurota</td>\n",
       "      <td>40.5614</td>\n",
       "      <td>65.6886</td>\n",
       "      <td>26.31</td>\n",
       "      <td>19</td>\n",
       "      <td>100</td>\n",
       "      <td>7.05</td>\n",
       "      <td>UZ</td>\n",
       "      <td>1681415573</td>\n",
       "    </tr>\n",
       "    <tr>\n",
       "      <th>3</th>\n",
       "      <td>vaini</td>\n",
       "      <td>-21.2000</td>\n",
       "      <td>-175.2000</td>\n",
       "      <td>26.09</td>\n",
       "      <td>83</td>\n",
       "      <td>20</td>\n",
       "      <td>3.09</td>\n",
       "      <td>TO</td>\n",
       "      <td>1681415135</td>\n",
       "    </tr>\n",
       "    <tr>\n",
       "      <th>4</th>\n",
       "      <td>port alfred</td>\n",
       "      <td>-33.5906</td>\n",
       "      <td>26.8910</td>\n",
       "      <td>15.10</td>\n",
       "      <td>92</td>\n",
       "      <td>14</td>\n",
       "      <td>0.45</td>\n",
       "      <td>ZA</td>\n",
       "      <td>1681415142</td>\n",
       "    </tr>\n",
       "  </tbody>\n",
       "</table>\n",
       "</div>"
      ],
      "text/plain": [
       "            City      Lat       Lng  Max Temp  Humidity  Cloudiness  \\\n",
       "0    khed brahma  24.0333   73.0500     26.92        33          98   \n",
       "1  batagay-alyta  67.8006  130.4114    -17.93        91          99   \n",
       "2         nurota  40.5614   65.6886     26.31        19         100   \n",
       "3          vaini -21.2000 -175.2000     26.09        83          20   \n",
       "4    port alfred -33.5906   26.8910     15.10        92          14   \n",
       "\n",
       "   Wind Speed Country        Date  \n",
       "0        0.62      IN  1681415572  \n",
       "1        1.83      RU  1681415573  \n",
       "2        7.05      UZ  1681415573  \n",
       "3        3.09      TO  1681415135  \n",
       "4        0.45      ZA  1681415142  "
      ]
     },
     "execution_count": 202,
     "metadata": {},
     "output_type": "execute_result"
    }
   ],
   "source": [
    "# convert Kelvin to Celsius\n",
    "city_data_df[\"Max Temp\"] = city_data_df[\"Max Temp\"] - 273.15\n",
    "city_data_df.head()"
   ]
  },
  {
   "cell_type": "code",
   "execution_count": 203,
   "metadata": {},
   "outputs": [],
   "source": [
    "# Export the City_Data into a csv\n",
    "# Creating the output_data directory if it doesn't exist\n",
    "isExists = os.path.isdir(\"output_data\")\n",
    "if not isExists:\n",
    "    os.mkdir(\"output_data\")\n",
    "city_data_df.to_csv(\"output_data/cities.csv\", index_label=\"City_ID\")"
   ]
  },
  {
   "cell_type": "code",
   "execution_count": 204,
   "metadata": {},
   "outputs": [
    {
     "data": {
      "text/html": [
       "<div>\n",
       "<style scoped>\n",
       "    .dataframe tbody tr th:only-of-type {\n",
       "        vertical-align: middle;\n",
       "    }\n",
       "\n",
       "    .dataframe tbody tr th {\n",
       "        vertical-align: top;\n",
       "    }\n",
       "\n",
       "    .dataframe thead th {\n",
       "        text-align: right;\n",
       "    }\n",
       "</style>\n",
       "<table border=\"1\" class=\"dataframe\">\n",
       "  <thead>\n",
       "    <tr style=\"text-align: right;\">\n",
       "      <th></th>\n",
       "      <th>City</th>\n",
       "      <th>Lat</th>\n",
       "      <th>Lng</th>\n",
       "      <th>Max Temp</th>\n",
       "      <th>Humidity</th>\n",
       "      <th>Cloudiness</th>\n",
       "      <th>Wind Speed</th>\n",
       "      <th>Country</th>\n",
       "      <th>Date</th>\n",
       "    </tr>\n",
       "    <tr>\n",
       "      <th>City_ID</th>\n",
       "      <th></th>\n",
       "      <th></th>\n",
       "      <th></th>\n",
       "      <th></th>\n",
       "      <th></th>\n",
       "      <th></th>\n",
       "      <th></th>\n",
       "      <th></th>\n",
       "      <th></th>\n",
       "    </tr>\n",
       "  </thead>\n",
       "  <tbody>\n",
       "    <tr>\n",
       "      <th>0</th>\n",
       "      <td>khed brahma</td>\n",
       "      <td>24.0333</td>\n",
       "      <td>73.0500</td>\n",
       "      <td>26.92</td>\n",
       "      <td>33</td>\n",
       "      <td>98</td>\n",
       "      <td>0.62</td>\n",
       "      <td>IN</td>\n",
       "      <td>1681415572</td>\n",
       "    </tr>\n",
       "    <tr>\n",
       "      <th>1</th>\n",
       "      <td>batagay-alyta</td>\n",
       "      <td>67.8006</td>\n",
       "      <td>130.4114</td>\n",
       "      <td>-17.93</td>\n",
       "      <td>91</td>\n",
       "      <td>99</td>\n",
       "      <td>1.83</td>\n",
       "      <td>RU</td>\n",
       "      <td>1681415573</td>\n",
       "    </tr>\n",
       "    <tr>\n",
       "      <th>2</th>\n",
       "      <td>nurota</td>\n",
       "      <td>40.5614</td>\n",
       "      <td>65.6886</td>\n",
       "      <td>26.31</td>\n",
       "      <td>19</td>\n",
       "      <td>100</td>\n",
       "      <td>7.05</td>\n",
       "      <td>UZ</td>\n",
       "      <td>1681415573</td>\n",
       "    </tr>\n",
       "    <tr>\n",
       "      <th>3</th>\n",
       "      <td>vaini</td>\n",
       "      <td>-21.2000</td>\n",
       "      <td>-175.2000</td>\n",
       "      <td>26.09</td>\n",
       "      <td>83</td>\n",
       "      <td>20</td>\n",
       "      <td>3.09</td>\n",
       "      <td>TO</td>\n",
       "      <td>1681415135</td>\n",
       "    </tr>\n",
       "    <tr>\n",
       "      <th>4</th>\n",
       "      <td>port alfred</td>\n",
       "      <td>-33.5906</td>\n",
       "      <td>26.8910</td>\n",
       "      <td>15.10</td>\n",
       "      <td>92</td>\n",
       "      <td>14</td>\n",
       "      <td>0.45</td>\n",
       "      <td>ZA</td>\n",
       "      <td>1681415142</td>\n",
       "    </tr>\n",
       "  </tbody>\n",
       "</table>\n",
       "</div>"
      ],
      "text/plain": [
       "                  City      Lat       Lng  Max Temp  Humidity  Cloudiness  \\\n",
       "City_ID                                                                     \n",
       "0          khed brahma  24.0333   73.0500     26.92        33          98   \n",
       "1        batagay-alyta  67.8006  130.4114    -17.93        91          99   \n",
       "2               nurota  40.5614   65.6886     26.31        19         100   \n",
       "3                vaini -21.2000 -175.2000     26.09        83          20   \n",
       "4          port alfred -33.5906   26.8910     15.10        92          14   \n",
       "\n",
       "         Wind Speed Country        Date  \n",
       "City_ID                                  \n",
       "0              0.62      IN  1681415572  \n",
       "1              1.83      RU  1681415573  \n",
       "2              7.05      UZ  1681415573  \n",
       "3              3.09      TO  1681415135  \n",
       "4              0.45      ZA  1681415142  "
      ]
     },
     "execution_count": 204,
     "metadata": {},
     "output_type": "execute_result"
    }
   ],
   "source": [
    "# Read saved data\n",
    "city_data_df = pd.read_csv(\"output_data/cities.csv\", index_col=\"City_ID\")\n",
    "\n",
    "# Display sample data\n",
    "city_data_df.head()"
   ]
  },
  {
   "cell_type": "markdown",
   "metadata": {},
   "source": [
    "### Create the Scatter Plots Requested\n",
    "\n",
    "#### Latitude Vs. Temperature"
   ]
  },
  {
   "cell_type": "code",
   "execution_count": 205,
   "metadata": {
    "tags": []
   },
   "outputs": [
    {
     "data": {
      "image/png": "[encoded data removed]",
      "text/plain": [
       "<Figure size 432x288 with 1 Axes>"
      ]
     },
     "metadata": {
      "needs_background": "light"
     },
     "output_type": "display_data"
    }
   ],
   "source": [
    "# Build scatter plot for latitude vs. temperature\n",
    "latitude = city_data_df['Lat']\n",
    "temp = city_data_df['Max Temp']\n",
    "plt.scatter(latitude, temp, edgecolors=\"black\")\n",
    "\n",
    "# Incorporate the other graph properties\n",
    "plt.grid()\n",
    "plt.xlabel(\"Latitude\")\n",
    "plt.ylabel(\"Max Temperature (C)\")\n",
    "plt.title(\"Latitude vs. Max Temperature\")\n",
    "\n",
    "# Save the figure\n",
    "plt.savefig(\"output_data/Fig1.png\")\n",
    "\n",
    "# Show plot\n",
    "plt.show()"
   ]
  },
  {
   "cell_type": "markdown",
   "metadata": {},
   "source": [
    "#### Latitude Vs. Humidity"
   ]
  },
  {
   "cell_type": "code",
   "execution_count": 206,
   "metadata": {},
   "outputs": [
    {
     "data": {
      "image/png": "[encoded data removed]",
      "text/plain": [
       "<Figure size 432x288 with 1 Axes>"
      ]
     },
     "metadata": {
      "needs_background": "light"
     },
     "output_type": "display_data"
    }
   ],
   "source": [
    "# Build the scatter plots for latitude vs. humidity\n",
    "humidity = city_data_df['Humidity'].astype(\"float\")\n",
    "plt.scatter(latitude, humidity, edgecolors=\"black\")\n",
    "\n",
    "# Incorporate the other graph properties\n",
    "plt.grid()\n",
    "plt.xlabel(\"Latitude\")\n",
    "plt.ylabel(\"Humidity (%)\")\n",
    "plt.title(\"Latitude vs. Humidity\")\n",
    "\n",
    "# Save the figure\n",
    "plt.savefig(\"output_data/Fig2.png\")\n",
    "\n",
    "# Show plot\n",
    "plt.show()"
   ]
  },
  {
   "cell_type": "markdown",
   "metadata": {},
   "source": [
    "#### Latitude Vs. Cloudiness"
   ]
  },
  {
   "cell_type": "code",
   "execution_count": 207,
   "metadata": {},
   "outputs": [
    {
     "data": {
      "image/png": "[encoded data removed]",
      "text/plain": [
       "<Figure size 432x288 with 1 Axes>"
      ]
     },
     "metadata": {
      "needs_background": "light"
     },
     "output_type": "display_data"
    }
   ],
   "source": [
    "# Build the scatter plots for latitude vs. cloudiness\n",
    "cloudiness = city_data_df['Cloudiness']\n",
    "plt.scatter(latitude, cloudiness, edgecolors=\"black\")\n",
    "\n",
    "# Incorporate the other graph properties\n",
    "plt.grid()\n",
    "plt.xlabel(\"Latitude\")\n",
    "plt.ylabel(\"Cloudiness (%)\")\n",
    "plt.title(\"Latitude vs. Cloudiness\")\n",
    "\n",
    "# Save the figure\n",
    "plt.savefig(\"output_data/Fig3.png\")\n",
    "\n",
    "# Show plot\n",
    "plt.show()"
   ]
  },
  {
   "cell_type": "markdown",
   "metadata": {},
   "source": [
    "#### Latitude vs. Wind Speed Plot"
   ]
  },
  {
   "cell_type": "code",
   "execution_count": 208,
   "metadata": {},
   "outputs": [
    {
     "data": {
      "image/png": "[encoded data removed]",
      "text/plain": [
       "<Figure size 432x288 with 1 Axes>"
      ]
     },
     "metadata": {
      "needs_background": "light"
     },
     "output_type": "display_data"
    }
   ],
   "source": [
    "# Build the scatter plots for latitude vs. wind speed\n",
    "wind_speed = city_data_df['Wind Speed']\n",
    "plt.scatter(latitude, wind_speed, edgecolors=\"black\")\n",
    "\n",
    "# Incorporate the other graph properties\n",
    "plt.grid()\n",
    "plt.xlabel(\"Latitude\")\n",
    "plt.ylabel(\"Wind Speed (m/s)\")\n",
    "plt.title(\"Latitude vs. Wind Speed\")\n",
    "\n",
    "# Save the figure\n",
    "plt.savefig(\"output_data/Fig4.png\")\n",
    "\n",
    "# Show plot\n",
    "plt.show()"
   ]
  },
  {
   "cell_type": "markdown",
   "metadata": {},
   "source": [
    "---\n",
    "\n",
    "## Requirement 2: Compute Linear Regression for Each Relationship\n"
   ]
  },
  {
   "cell_type": "code",
   "execution_count": 209,
   "metadata": {},
   "outputs": [],
   "source": [
    "# Define a function to create Linear Regression plots\n",
    "def linreg(x_axis, y_axis, xlabel, ylabel, title, xpos, ypos):\n",
    "    (slope, intercept, rvalue, pvalue, stderr) = linregress(x_axis, y_axis)\n",
    "    print(\"The r-value is \" + str(rvalue) + \".\")\n",
    "    regress_values = slope * x_axis + intercept\n",
    "    line_eq = \"y = \" + str(round(slope,2)) + \"x + \" + str(round(intercept,2))\n",
    "    plt.scatter(x_axis, y_axis)\n",
    "    plt.plot(x_axis, regress_values, \"r-\")\n",
    "    plt.annotate(line_eq,(xpos, ypos),fontsize=15,color=\"red\")\n",
    "    plt.xlabel(xlabel)\n",
    "    plt.ylabel(ylabel)\n",
    "    plt.title(title)\n",
    "    return str(rvalue)"
   ]
  },
  {
   "cell_type": "code",
   "execution_count": 210,
   "metadata": {},
   "outputs": [
    {
     "data": {
      "text/html": [
       "<div>\n",
       "<style scoped>\n",
       "    .dataframe tbody tr th:only-of-type {\n",
       "        vertical-align: middle;\n",
       "    }\n",
       "\n",
       "    .dataframe tbody tr th {\n",
       "        vertical-align: top;\n",
       "    }\n",
       "\n",
       "    .dataframe thead th {\n",
       "        text-align: right;\n",
       "    }\n",
       "</style>\n",
       "<table border=\"1\" class=\"dataframe\">\n",
       "  <thead>\n",
       "    <tr style=\"text-align: right;\">\n",
       "      <th></th>\n",
       "      <th>City</th>\n",
       "      <th>Lat</th>\n",
       "      <th>Lng</th>\n",
       "      <th>Max Temp</th>\n",
       "      <th>Humidity</th>\n",
       "      <th>Cloudiness</th>\n",
       "      <th>Wind Speed</th>\n",
       "      <th>Country</th>\n",
       "      <th>Date</th>\n",
       "    </tr>\n",
       "    <tr>\n",
       "      <th>City_ID</th>\n",
       "      <th></th>\n",
       "      <th></th>\n",
       "      <th></th>\n",
       "      <th></th>\n",
       "      <th></th>\n",
       "      <th></th>\n",
       "      <th></th>\n",
       "      <th></th>\n",
       "      <th></th>\n",
       "    </tr>\n",
       "  </thead>\n",
       "  <tbody>\n",
       "    <tr>\n",
       "      <th>0</th>\n",
       "      <td>khed brahma</td>\n",
       "      <td>24.0333</td>\n",
       "      <td>73.0500</td>\n",
       "      <td>26.92</td>\n",
       "      <td>33</td>\n",
       "      <td>98</td>\n",
       "      <td>0.62</td>\n",
       "      <td>IN</td>\n",
       "      <td>1681415572</td>\n",
       "    </tr>\n",
       "    <tr>\n",
       "      <th>1</th>\n",
       "      <td>batagay-alyta</td>\n",
       "      <td>67.8006</td>\n",
       "      <td>130.4114</td>\n",
       "      <td>-17.93</td>\n",
       "      <td>91</td>\n",
       "      <td>99</td>\n",
       "      <td>1.83</td>\n",
       "      <td>RU</td>\n",
       "      <td>1681415573</td>\n",
       "    </tr>\n",
       "    <tr>\n",
       "      <th>2</th>\n",
       "      <td>nurota</td>\n",
       "      <td>40.5614</td>\n",
       "      <td>65.6886</td>\n",
       "      <td>26.31</td>\n",
       "      <td>19</td>\n",
       "      <td>100</td>\n",
       "      <td>7.05</td>\n",
       "      <td>UZ</td>\n",
       "      <td>1681415573</td>\n",
       "    </tr>\n",
       "    <tr>\n",
       "      <th>5</th>\n",
       "      <td>pevek</td>\n",
       "      <td>69.7008</td>\n",
       "      <td>170.3133</td>\n",
       "      <td>-17.18</td>\n",
       "      <td>95</td>\n",
       "      <td>97</td>\n",
       "      <td>1.08</td>\n",
       "      <td>RU</td>\n",
       "      <td>1681415294</td>\n",
       "    </tr>\n",
       "    <tr>\n",
       "      <th>6</th>\n",
       "      <td>tuktoyaktuk</td>\n",
       "      <td>69.4541</td>\n",
       "      <td>-133.0374</td>\n",
       "      <td>-21.00</td>\n",
       "      <td>77</td>\n",
       "      <td>75</td>\n",
       "      <td>3.60</td>\n",
       "      <td>CA</td>\n",
       "      <td>1681415257</td>\n",
       "    </tr>\n",
       "  </tbody>\n",
       "</table>\n",
       "</div>"
      ],
      "text/plain": [
       "                  City      Lat       Lng  Max Temp  Humidity  Cloudiness  \\\n",
       "City_ID                                                                     \n",
       "0          khed brahma  24.0333   73.0500     26.92        33          98   \n",
       "1        batagay-alyta  67.8006  130.4114    -17.93        91          99   \n",
       "2               nurota  40.5614   65.6886     26.31        19         100   \n",
       "5                pevek  69.7008  170.3133    -17.18        95          97   \n",
       "6          tuktoyaktuk  69.4541 -133.0374    -21.00        77          75   \n",
       "\n",
       "         Wind Speed Country        Date  \n",
       "City_ID                                  \n",
       "0              0.62      IN  1681415572  \n",
       "1              1.83      RU  1681415573  \n",
       "2              7.05      UZ  1681415573  \n",
       "5              1.08      RU  1681415294  \n",
       "6              3.60      CA  1681415257  "
      ]
     },
     "execution_count": 210,
     "metadata": {},
     "output_type": "execute_result"
    }
   ],
   "source": [
    "# Create a DataFrame with the Northern Hemisphere data (Latitude >= 0)\n",
    "northern_hemi_df = city_data_df[city_data_df['Lat'] >= 0]\n",
    "\n",
    "# Display sample data\n",
    "northern_hemi_df.head()"
   ]
  },
  {
   "cell_type": "code",
   "execution_count": 211,
   "metadata": {},
   "outputs": [
    {
     "data": {
      "text/html": [
       "<div>\n",
       "<style scoped>\n",
       "    .dataframe tbody tr th:only-of-type {\n",
       "        vertical-align: middle;\n",
       "    }\n",
       "\n",
       "    .dataframe tbody tr th {\n",
       "        vertical-align: top;\n",
       "    }\n",
       "\n",
       "    .dataframe thead th {\n",
       "        text-align: right;\n",
       "    }\n",
       "</style>\n",
       "<table border=\"1\" class=\"dataframe\">\n",
       "  <thead>\n",
       "    <tr style=\"text-align: right;\">\n",
       "      <th></th>\n",
       "      <th>City</th>\n",
       "      <th>Lat</th>\n",
       "      <th>Lng</th>\n",
       "      <th>Max Temp</th>\n",
       "      <th>Humidity</th>\n",
       "      <th>Cloudiness</th>\n",
       "      <th>Wind Speed</th>\n",
       "      <th>Country</th>\n",
       "      <th>Date</th>\n",
       "    </tr>\n",
       "    <tr>\n",
       "      <th>City_ID</th>\n",
       "      <th></th>\n",
       "      <th></th>\n",
       "      <th></th>\n",
       "      <th></th>\n",
       "      <th></th>\n",
       "      <th></th>\n",
       "      <th></th>\n",
       "      <th></th>\n",
       "      <th></th>\n",
       "    </tr>\n",
       "  </thead>\n",
       "  <tbody>\n",
       "    <tr>\n",
       "      <th>3</th>\n",
       "      <td>vaini</td>\n",
       "      <td>-21.2000</td>\n",
       "      <td>-175.2000</td>\n",
       "      <td>26.09</td>\n",
       "      <td>83</td>\n",
       "      <td>20</td>\n",
       "      <td>3.09</td>\n",
       "      <td>TO</td>\n",
       "      <td>1681415135</td>\n",
       "    </tr>\n",
       "    <tr>\n",
       "      <th>4</th>\n",
       "      <td>port alfred</td>\n",
       "      <td>-33.5906</td>\n",
       "      <td>26.8910</td>\n",
       "      <td>15.10</td>\n",
       "      <td>92</td>\n",
       "      <td>14</td>\n",
       "      <td>0.45</td>\n",
       "      <td>ZA</td>\n",
       "      <td>1681415142</td>\n",
       "    </tr>\n",
       "    <tr>\n",
       "      <th>8</th>\n",
       "      <td>luderitz</td>\n",
       "      <td>-26.6481</td>\n",
       "      <td>15.1594</td>\n",
       "      <td>16.10</td>\n",
       "      <td>68</td>\n",
       "      <td>31</td>\n",
       "      <td>6.32</td>\n",
       "      <td>NaN</td>\n",
       "      <td>1681415312</td>\n",
       "    </tr>\n",
       "    <tr>\n",
       "      <th>11</th>\n",
       "      <td>faanui</td>\n",
       "      <td>-16.4833</td>\n",
       "      <td>-151.7500</td>\n",
       "      <td>27.66</td>\n",
       "      <td>71</td>\n",
       "      <td>22</td>\n",
       "      <td>3.86</td>\n",
       "      <td>PF</td>\n",
       "      <td>1681415215</td>\n",
       "    </tr>\n",
       "    <tr>\n",
       "      <th>14</th>\n",
       "      <td>saint-philippe</td>\n",
       "      <td>-21.3585</td>\n",
       "      <td>55.7679</td>\n",
       "      <td>24.77</td>\n",
       "      <td>83</td>\n",
       "      <td>66</td>\n",
       "      <td>0.82</td>\n",
       "      <td>RE</td>\n",
       "      <td>1681415153</td>\n",
       "    </tr>\n",
       "  </tbody>\n",
       "</table>\n",
       "</div>"
      ],
      "text/plain": [
       "                   City      Lat       Lng  Max Temp  Humidity  Cloudiness  \\\n",
       "City_ID                                                                      \n",
       "3                 vaini -21.2000 -175.2000     26.09        83          20   \n",
       "4           port alfred -33.5906   26.8910     15.10        92          14   \n",
       "8              luderitz -26.6481   15.1594     16.10        68          31   \n",
       "11               faanui -16.4833 -151.7500     27.66        71          22   \n",
       "14       saint-philippe -21.3585   55.7679     24.77        83          66   \n",
       "\n",
       "         Wind Speed Country        Date  \n",
       "City_ID                                  \n",
       "3              3.09      TO  1681415135  \n",
       "4              0.45      ZA  1681415142  \n",
       "8              6.32     NaN  1681415312  \n",
       "11             3.86      PF  1681415215  \n",
       "14             0.82      RE  1681415153  "
      ]
     },
     "execution_count": 211,
     "metadata": {},
     "output_type": "execute_result"
    }
   ],
   "source": [
    "# Create a DataFrame with the Southern Hemisphere data (Latitude < 0)\n",
    "southern_hemi_df = city_data_df[city_data_df['Lat'] < 0]\n",
    "\n",
    "# Display sample data\n",
    "southern_hemi_df.head()"
   ]
  },
  {
   "cell_type": "markdown",
   "metadata": {},
   "source": [
    "###  Temperature vs. Latitude Linear Regression Plot"
   ]
  },
  {
   "cell_type": "code",
   "execution_count": 212,
   "metadata": {},
   "outputs": [
    {
     "name": "stdout",
     "output_type": "stream",
     "text": [
      "The r-value is -0.8347628568500959.\n"
     ]
    },
    {
     "data": {
      "image/png": "[encoded data removed]",
      "text/plain": [
       "<Figure size 432x288 with 1 Axes>"
      ]
     },
     "metadata": {
      "needs_background": "light"
     },
     "output_type": "display_data"
    }
   ],
   "source": [
    "# Linear regression on Northern Hemisphere\n",
    "northern_hemi_lat = northern_hemi_df['Lat']\n",
    "rval1 = linreg(northern_hemi_lat, northern_hemi_df['Max Temp'], \"Latitude\", \"Max Temperature (C)\", \"Latitude vs. Max Temperature in the Northern Hemisphere\", 10, -10)"
   ]
  },
  {
   "cell_type": "code",
   "execution_count": 213,
   "metadata": {},
   "outputs": [
    {
     "name": "stdout",
     "output_type": "stream",
     "text": [
      "The r-value is 0.7629207289561886.\n"
     ]
    },
    {
     "data": {
      "image/png": "[encoded data removed]",
      "text/plain": [
       "<Figure size 432x288 with 1 Axes>"
      ]
     },
     "metadata": {
      "needs_background": "light"
     },
     "output_type": "display_data"
    }
   ],
   "source": [
    "# Linear regression on Southern Hemisphere\n",
    "southern_hemi_lat = southern_hemi_df['Lat']\n",
    "rval2 = linreg(southern_hemi_lat, southern_hemi_df['Max Temp'], \"Latitude\", \"Max Temperature (C)\", \"Latitude vs. Max Temperature in the Southern Hemisphere\", -50, 30)"
   ]
  },
  {
   "cell_type": "code",
   "execution_count": 214,
   "metadata": {},
   "outputs": [
    {
     "data": {
      "text/markdown": [
       "**Discussion about the linear relationship:** In the northern hemisphere there is a strong negative correlation between latitude and temperature, with an r-value of -0.8347628568500959. In the southern hemisphere there is a moderate correlation between latitude and temperature, with an r-value of only 0.7629207289561886. Although, when we plot both hemispheres on the same graph, it is clear that a parabolic regression that reaches its apex near the equator would fit the data better than linear regressions do."
      ],
      "text/plain": [
       "<IPython.core.display.Markdown object>"
      ]
     },
     "execution_count": 214,
     "metadata": {},
     "output_type": "execute_result"
    }
   ],
   "source": [
    "from IPython.display import Markdown as md\n",
    "md(f\"**Discussion about the linear relationship:** In the northern hemisphere there is a strong negative correlation between latitude and temperature, with an r-value of {rval1}. In the southern hemisphere there is a moderate correlation between latitude and temperature, with an r-value of only {rval2}. Although, when we plot both hemispheres on the same graph, it is clear that a parabolic regression that reaches its apex near the equator would fit the data better than linear regressions do.\")"
   ]
  },
  {
   "cell_type": "markdown",
   "metadata": {},
   "source": [
    "### Humidity vs. Latitude Linear Regression Plot"
   ]
  },
  {
   "cell_type": "code",
   "execution_count": 215,
   "metadata": {},
   "outputs": [
    {
     "name": "stdout",
     "output_type": "stream",
     "text": [
      "The r-value is 0.1884875463650633.\n"
     ]
    },
    {
     "data": {
      "image/png": "[encoded data removed]",
      "text/plain": [
       "<Figure size 432x288 with 1 Axes>"
      ]
     },
     "metadata": {
      "needs_background": "light"
     },
     "output_type": "display_data"
    }
   ],
   "source": [
    "# Northern Hemisphere\n",
    "rval3 = linreg(northern_hemi_lat, northern_hemi_df['Humidity'], \"Latitude\", \"Humidity (%)\", \"Latitude vs. Humidity in the Northern Hemisphere\", 45, 15)"
   ]
  },
  {
   "cell_type": "code",
   "execution_count": 216,
   "metadata": {},
   "outputs": [
    {
     "name": "stdout",
     "output_type": "stream",
     "text": [
      "The r-value is 0.24131244604392432.\n"
     ]
    },
    {
     "data": {
      "image/png": "[encoded data removed]",
      "text/plain": [
       "<Figure size 432x288 with 1 Axes>"
      ]
     },
     "metadata": {
      "needs_background": "light"
     },
     "output_type": "display_data"
    }
   ],
   "source": [
    "# Southern Hemisphere\n",
    "rval4 = linreg(southern_hemi_lat, southern_hemi_df['Humidity'], \"Latitude\", \"Humidity (%)\", \"Latitude vs. Humidity in the Southern Hemisphere\", -50, 40)"
   ]
  },
  {
   "cell_type": "code",
   "execution_count": 217,
   "metadata": {},
   "outputs": [
    {
     "data": {
      "text/markdown": [
       "**Discussion about the linear relationship:** In the northern hemisphere there is a very weak correlation between latitude and humidity, with an r-value of 0.1884875463650633. In the southern hemisphere there is also a very weak correlation between latitude and humidity, with an r-value of only 0.24131244604392432. Overall, linear regressions do not seem to fit this data very well, and there is little correlation between latitude and humidity."
      ],
      "text/plain": [
       "<IPython.core.display.Markdown object>"
      ]
     },
     "execution_count": 217,
     "metadata": {},
     "output_type": "execute_result"
    }
   ],
   "source": [
    "md(f\"**Discussion about the linear relationship:** In the northern hemisphere there is a very weak correlation between latitude and humidity, with an r-value of {rval3}. In the southern hemisphere there is also a very weak correlation between latitude and humidity, with an r-value of only {rval4}. Overall, linear regressions do not seem to fit this data very well, and there is little correlation between latitude and humidity.\")"
   ]
  },
  {
   "cell_type": "markdown",
   "metadata": {},
   "source": [
    "### Cloudiness vs. Latitude Linear Regression Plot"
   ]
  },
  {
   "cell_type": "code",
   "execution_count": 218,
   "metadata": {},
   "outputs": [
    {
     "name": "stdout",
     "output_type": "stream",
     "text": [
      "The r-value is 0.08222207503332493.\n"
     ]
    },
    {
     "data": {
      "image/png": "[encoded data removed]",
      "text/plain": [
       "<Figure size 432x288 with 1 Axes>"
      ]
     },
     "metadata": {
      "needs_background": "light"
     },
     "output_type": "display_data"
    }
   ],
   "source": [
    "# Northern Hemisphere\n",
    "rval5 = linreg(northern_hemi_lat, northern_hemi_df['Cloudiness'], \"Latitude\", \"Cloudiness (%)\", \"Latitude vs. Cloudiness in the Northern Hemisphere\", 25, 68)"
   ]
  },
  {
   "cell_type": "code",
   "execution_count": 219,
   "metadata": {},
   "outputs": [
    {
     "name": "stdout",
     "output_type": "stream",
     "text": [
      "The r-value is 0.3727191386100612.\n"
     ]
    },
    {
     "data": {
      "image/png": "[encoded data removed]",
      "text/plain": [
       "<Figure size 432x288 with 1 Axes>"
      ]
     },
     "metadata": {
      "needs_background": "light"
     },
     "output_type": "display_data"
    }
   ],
   "source": [
    "# Southern Hemisphere\n",
    "rval6 = linreg(southern_hemi_lat, southern_hemi_df['Cloudiness'], \"Latitude\", \"Cloudiness (%)\", \"Latitude vs. Cloudiness in the Southern Hemisphere\", -50, 60)"
   ]
  },
  {
   "cell_type": "code",
   "execution_count": 220,
   "metadata": {
    "scrolled": true
   },
   "outputs": [
    {
     "data": {
      "text/markdown": [
       "**Discussion about the linear relationship:** In the northern hemisphere there is almost no correlation between latitude and cloudiness, with an r-value of 0.08222207503332493. In the southern hemisphere, there is a slight correlation between latitude and cloudiness, with an r-value of 0.3727191386100612. Overall, these linear regressions do not seem to fit these data very well, and there is little correlation between latitude and cloudiness. "
      ],
      "text/plain": [
       "<IPython.core.display.Markdown object>"
      ]
     },
     "execution_count": 220,
     "metadata": {},
     "output_type": "execute_result"
    }
   ],
   "source": [
    "md(f\"**Discussion about the linear relationship:** In the northern hemisphere there is almost no correlation between latitude and cloudiness, with an r-value of {rval5}. In the southern hemisphere, there is a slight correlation between latitude and cloudiness, with an r-value of {rval6}. Overall, these linear regressions do not seem to fit these data very well, and there is little correlation between latitude and cloudiness. \") \n",
    "   # One thing that is perhaps worth noting, however, is that there appear to be clusers of points around (-25, 0) and (-5, 100) on the southern hemisphere plot, indicating that there are a number of cities around the equator that have lots of clouds and a number of cities around latitude -25 that have almost no clouds. "
   ]
  },
  {
   "cell_type": "markdown",
   "metadata": {},
   "source": [
    "### Wind Speed vs. Latitude Linear Regression Plot"
   ]
  },
  {
   "cell_type": "code",
   "execution_count": 221,
   "metadata": {},
   "outputs": [
    {
     "name": "stdout",
     "output_type": "stream",
     "text": [
      "The r-value is 0.0914160489940128.\n"
     ]
    },
    {
     "data": {
      "image/png": "[encoded data removed]",
      "text/plain": [
       "<Figure size 432x288 with 1 Axes>"
      ]
     },
     "metadata": {
      "needs_background": "light"
     },
     "output_type": "display_data"
    }
   ],
   "source": [
    "# Northern Hemisphere\n",
    "rval7 = linreg(northern_hemi_lat, northern_hemi_df['Wind Speed'], \"Latitude\", \"Wind Speed (m/s)\", \"Latitude vs. Wind Speed in the Northern Hemisphere\", 10, 12)"
   ]
  },
  {
   "cell_type": "code",
   "execution_count": 222,
   "metadata": {},
   "outputs": [
    {
     "name": "stdout",
     "output_type": "stream",
     "text": [
      "The r-value is -0.26598876391293735.\n"
     ]
    },
    {
     "data": {
      "image/png": "[encoded data removed]",
      "text/plain": [
       "<Figure size 432x288 with 1 Axes>"
      ]
     },
     "metadata": {
      "needs_background": "light"
     },
     "output_type": "display_data"
    }
   ],
   "source": [
    "# Southern Hemisphere\n",
    "rval8 = linreg(southern_hemi_lat, southern_hemi_df['Wind Speed'], \"Latitude\", \"Wind Speed (m/s)\", \"Latitude vs. Wind Speed in the Sourthern Hemisphere\", -30, 10)"
   ]
  },
  {
   "cell_type": "code",
   "execution_count": 223,
   "metadata": {},
   "outputs": [
    {
     "data": {
      "text/markdown": [
       "**Discussion about the linear relationship:** In the northern hemisphere, there is almost no correlation between latitude and wind speed, with an r-value of 0.0914160489940128. In the southern hemisphere there is just a slight negative correlation between latitude and wind speed, with an r-value of -0.26598876391293735."
      ],
      "text/plain": [
       "<IPython.core.display.Markdown object>"
      ]
     },
     "execution_count": 223,
     "metadata": {},
     "output_type": "execute_result"
    }
   ],
   "source": [
    "md(f\"**Discussion about the linear relationship:** In the northern hemisphere, there is almost no correlation between latitude and wind speed, with an r-value of {rval7}. In the southern hemisphere there is just a slight negative correlation between latitude and wind speed, with an r-value of {rval8}.\")"
   ]
  },
  {
   "cell_type": "code",
   "execution_count": null,
   "metadata": {},
   "outputs": [],
   "source": []
  }
 ],
 "metadata": {
  "anaconda-cloud": {},
  "kernel_info": {
   "name": "python3"
  },
  "kernelspec": {
   "display_name": "Python 3 (ipykernel)",
   "language": "python",
   "name": "python3"
  },
  "language_info": {
   "codemirror_mode": {
    "name": "ipython",
    "version": 3
   },
   "file_extension": ".py",
   "mimetype": "text/x-python",
   "name": "python",
   "nbconvert_exporter": "python",
   "pygments_lexer": "ipython3",
   "version": "3.9.13"
  },
  "latex_envs": {
   "LaTeX_envs_menu_present": true,
   "autoclose": false,
   "autocomplete": true,
   "bibliofile": "biblio.bib",
   "cite_by": "apalike",
   "current_citInitial": 1,
   "eqLabelWithNumbers": true,
   "eqNumInitial": 1,
   "hotkeys": {
    "equation": "Ctrl-E",
    "itemize": "Ctrl-I"
   },
   "labels_anchors": false,
   "latex_user_defs": false,
   "report_style_numbering": false,
   "user_envs_cfg": false
  },
  "nteract": {
   "version": "0.12.3"
  }
 },
 "nbformat": 4,
 "nbformat_minor": 4
}
